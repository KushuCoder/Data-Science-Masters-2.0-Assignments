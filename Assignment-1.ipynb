{
 "cells": [
  {
   "cell_type": "markdown",
   "id": "627d3448-102d-41b0-ad85-00d3464503ff",
   "metadata": {},
   "source": [
    "Q1. Create one variable containing following type of data:\n",
    "\n",
    "(i) string\r\n",
    "(ii) list\r\n",
    "(iii) float\r\n",
    "(iv) tuple"
   ]
  },
  {
   "cell_type": "code",
   "execution_count": 2,
   "id": "8023fe59-1ff7-43ae-8d6b-d5ff501708fe",
   "metadata": {},
   "outputs": [],
   "source": [
    "var = (\"Hello\", [1, 2, 3], 3.14, (4, 5, 6))"
   ]
  },
  {
   "cell_type": "markdown",
   "id": "092371a5-1712-4faa-a172-ff6b0dd1b066",
   "metadata": {},
   "source": [
    "Q2. Given are some following variables containing data:  \r\n",
    "(i) var1 = ‘ ‘  \r\n",
    "(ii) var2 = ‘[ DS , ML , Python]’  \r\n",
    "(iii) var3 = [ ‘DS’ , ’ML’ , ‘Python’ ]  \r\n",
    "(iv) var4 = 1.  \r\n",
    "What will be the data type of the above given variable.\r\n"
   ]
  },
  {
   "cell_type": "code",
   "execution_count": 3,
   "id": "1f646238-8fbd-484d-81e7-0f2e00a77143",
   "metadata": {},
   "outputs": [],
   "source": [
    "var1 = ' '  # String\r\n",
    "var2 = '[ DS , ML , Python]'  # String (because it is enclosed in quotes)\r\n",
    "var3 = ['DS', 'ML', 'Python']  # Listst\r\n",
    "var4 = 1.  # Float (because of the decimal point)\r\n"
   ]
  },
  {
   "cell_type": "markdown",
   "id": "a066dc7e-f655-4b65-b3c3-c7200ecb755c",
   "metadata": {},
   "source": [
    "Q3. Explain the use of the following operators using an example:  \n",
    "(i) /  \n",
    "(ii) %  \n",
    "(iii) //  \n",
    "(iv) **  \n"
   ]
  },
  {
   "cell_type": "code",
   "execution_count": 5,
   "id": "fcf486df-a6b9-4c02-8d88-832abea4401e",
   "metadata": {},
   "outputs": [
    {
     "name": "stdout",
     "output_type": "stream",
     "text": [
      "3.3333333333333335\n",
      "1\n",
      "3\n",
      "8\n"
     ]
    }
   ],
   "source": [
    "#(i) / (Division Operator) ->Used for division and returns a float.\n",
    "print(10/3)\n",
    "#(ii) % (Modulus Operator) ->Returns the remainder of a division.\n",
    "print(10%3)\n",
    "#(iii) // (Floor Division Operator) ->Performs division but only returns the integer part.\n",
    "print(10//3)\n",
    "#(iv) ** (Exponentiation Operator) ->Raises one number to the power of another.\n",
    "print(2**3)"
   ]
  },
  {
   "cell_type": "markdown",
   "id": "5e6a9725-2e80-4af9-8512-2a8bff6930d0",
   "metadata": {},
   "source": [
    "Q4. Create a list of length 10 of your choice containing multiple types of data. Using for loop print the\n",
    "element and its data type."
   ]
  },
  {
   "cell_type": "code",
   "execution_count": 9,
   "id": "4a87dc27-f398-41e1-aabe-07d8243a6645",
   "metadata": {},
   "outputs": [
    {
     "name": "stdout",
     "output_type": "stream",
     "text": [
      "Element: 10, Type: <class 'int'>\n",
      "Element: Python, Type: <class 'str'>\n",
      "Element: 3.14, Type: <class 'float'>\n",
      "Element: True, Type: <class 'bool'>\n",
      "Element: [1, 2, 3], Type: <class 'list'>\n",
      "Element: (4, 5), Type: <class 'tuple'>\n",
      "Element: {6, 7}, Type: <class 'set'>\n",
      "Element: {'name': 'sudhanshu'}, Type: <class 'dict'>\n",
      "Element: None, Type: <class 'NoneType'>\n",
      "Element: 8.9, Type: <class 'float'>\n"
     ]
    }
   ],
   "source": [
    "lst = [10, \"Python\", 3.14, True, [1, 2, 3], (4, 5), {6, 7}, {\"name\":\"sudhanshu\"}, None, 8.9]\n",
    "for i in lst:\n",
    "    print(f\"Element: {i}, Type: {type(i)}\")"
   ]
  },
  {
   "cell_type": "markdown",
   "id": "1fd4c18b-1e51-407b-ae1a-dd7cb3e6c752",
   "metadata": {},
   "source": [
    "Q5. Using a while loop, verify if the number A is purely divisible by number B and if so then how many\n",
    "times it can be divisible."
   ]
  },
  {
   "cell_type": "code",
   "execution_count": 10,
   "id": "b58c21fd-f677-40fd-90fd-171104a6d712",
   "metadata": {},
   "outputs": [
    {
     "name": "stdout",
     "output_type": "stream",
     "text": [
      "A is divisible by B 6 times.\n"
     ]
    }
   ],
   "source": [
    "A = 64\n",
    "B = 2\n",
    "count = 0\n",
    "while A % B == 0:\n",
    "    A = A // B\n",
    "    count += 1\n",
    "print(f\"A is divisible by B {count} times.\")"
   ]
  },
  {
   "cell_type": "markdown",
   "id": "6122000c-f5b2-4b07-a5eb-9c3bc3a18ab3",
   "metadata": {},
   "source": [
    "Q6. Create a list containing 25 int type data. Using for loop and if-else condition print if the element is\r\n",
    "divisible by 3 or not."
   ]
  },
  {
   "cell_type": "code",
   "execution_count": 13,
   "id": "d4a7317b-dbb6-42df-ae20-e8ebf9050ce6",
   "metadata": {},
   "outputs": [
    {
     "name": "stdout",
     "output_type": "stream",
     "text": [
      "0 is divisible by 3\n",
      "1 is NOT divisible by 3\n",
      "2 is NOT divisible by 3\n",
      "3 is divisible by 3\n",
      "4 is NOT divisible by 3\n",
      "5 is NOT divisible by 3\n",
      "6 is divisible by 3\n",
      "7 is NOT divisible by 3\n",
      "8 is NOT divisible by 3\n",
      "9 is divisible by 3\n",
      "10 is NOT divisible by 3\n",
      "11 is NOT divisible by 3\n",
      "12 is divisible by 3\n",
      "13 is NOT divisible by 3\n",
      "14 is NOT divisible by 3\n",
      "15 is divisible by 3\n",
      "16 is NOT divisible by 3\n",
      "17 is NOT divisible by 3\n",
      "18 is divisible by 3\n",
      "19 is NOT divisible by 3\n",
      "20 is NOT divisible by 3\n",
      "21 is divisible by 3\n",
      "22 is NOT divisible by 3\n",
      "23 is NOT divisible by 3\n",
      "24 is divisible by 3\n"
     ]
    }
   ],
   "source": [
    "numbers = [i for i in range(25)]\n",
    "for num in numbers:\n",
    "    if num % 3 == 0:\n",
    "        print(f\"{num} is divisible by 3\")\n",
    "    else:\n",
    "        print(f\"{num} is NOT divisible by 3\")"
   ]
  },
  {
   "cell_type": "markdown",
   "id": "ee8be417-9743-45cc-823c-30de42602a05",
   "metadata": {},
   "source": [
    "Q7. What do you understand about mutable and immutable data types? Give examples for both showing\r\n",
    "this property."
   ]
  },
  {
   "cell_type": "code",
   "execution_count": 15,
   "id": "2a4636f8-597c-4000-8d3e-2df406f80270",
   "metadata": {},
   "outputs": [
    {
     "name": "stdout",
     "output_type": "stream",
     "text": [
      "[100, 2, 3]\n"
     ]
    }
   ],
   "source": [
    "# Mutable data type-> the values can be modified ->ex:List\n",
    "mutable_list = [1, 2, 3]\n",
    "mutable_list[0] = 100  # Changing value\n",
    "print(mutable_list) \n",
    "\n",
    "# Immutable Example-> the values can't be modified ->ex:Tuple\n",
    "immutable_tuple = (1, 2, 3)\n",
    "#immutable_tuple[0] = 100  # This will raise an error\n"
   ]
  }
 ],
 "metadata": {
  "kernelspec": {
   "display_name": "Python 3 (ipykernel)",
   "language": "python",
   "name": "python3"
  },
  "language_info": {
   "codemirror_mode": {
    "name": "ipython",
    "version": 3
   },
   "file_extension": ".py",
   "mimetype": "text/x-python",
   "name": "python",
   "nbconvert_exporter": "python",
   "pygments_lexer": "ipython3",
   "version": "3.12.1"
  }
 },
 "nbformat": 4,
 "nbformat_minor": 5
}

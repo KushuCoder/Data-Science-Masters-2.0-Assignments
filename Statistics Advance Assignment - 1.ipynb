{
 "cells": [
  {
   "cell_type": "markdown",
   "id": "fd7a2377-4540-4526-bb04-09ece245186c",
   "metadata": {},
   "source": [
    "# Q1. What is the Probability density function?\n"
   ]
  },
  {
   "cell_type": "markdown",
   "id": "ca4b794c-4919-455f-9a24-423cd6cb673a",
   "metadata": {},
   "source": [
    "The Probability Density Function (PDF) describes the likelihood of a continuous random variable taking a particular value within a given range. It is used in continuous probability distributions and ensures that the total probability across all possible values is 1."
   ]
  },
  {
   "cell_type": "markdown",
   "id": "2934fe39-bb69-4360-9d2a-9acd8bcbde41",
   "metadata": {},
   "source": [
    "# Q2. What are the types of Probability distribution?\n"
   ]
  },
  {
   "cell_type": "markdown",
   "id": "9c2ec0d1-2b66-47cd-b80a-b091e4edd80c",
   "metadata": {},
   "source": [
    "Discrete Probability Distributions    \n",
    "Binomial Distribution    \n",
    "Poisson Distribution     \n",
    "Continuous Probability Distributions     \n",
    "Normal Distribution    \n",
    "Exponential Distribution "
   ]
  },
  {
   "cell_type": "markdown",
   "id": "c89f0f68-3558-4a20-bfcb-a77f3d2e479d",
   "metadata": {},
   "source": [
    "# Q3. Write a Python function to calculate the probability density function of a normal distribution with given mean and standard deviation at a given point.\n"
   ]
  },
  {
   "cell_type": "code",
   "execution_count": 1,
   "id": "3411f168-bd5b-40b8-a92c-ff68d06bb352",
   "metadata": {},
   "outputs": [
    {
     "name": "stdout",
     "output_type": "stream",
     "text": [
      "1.4867195147342977e-06\n"
     ]
    }
   ],
   "source": [
    "import math\n",
    "def normal_pdf(x, mean, std_dev):\n",
    "    return (1 / (std_dev * math.sqrt(2 * math.pi))) * math.exp(-((x - mean) ** 2) / (2 * std_dev ** 2))\n",
    "print(normal_pdf(5, 0, 1))"
   ]
  },
  {
   "cell_type": "markdown",
   "id": "b9c64e26-94a8-4418-8b21-f926414f10d3",
   "metadata": {},
   "source": [
    "# Q4. What are the properties of Binomial distribution? Give two examples of events where binomial distribution can be applied.\n"
   ]
  },
  {
   "cell_type": "markdown",
   "id": "deafde65-049b-444d-bd0a-c31a08bb386e",
   "metadata": {},
   "source": [
    "Properties:    \n",
    "Fixed number of trials (n).    \n",
    "Each trial has two outcomes (Success/Failure).    \n",
    "Constant probability of success (p) in each trial.    \n",
    "Trials are independent.    \n",
    "Mean = n⋅p    \n",
    "Variance = n⋅p⋅(1−p)    \n",
    "Examples:    \n",
    "The number of heads in 10 coin flips.    \n",
    "The number of defective items in a batch of 50 manufactured products."
   ]
  },
  {
   "cell_type": "markdown",
   "id": "8cee2393-9df0-4810-98df-45ba461fa851",
   "metadata": {},
   "source": [
    "# Q5. Generate a random sample of size 1000 from a binomial distribution with probability of success 0.4 and plot a histogram of the results using matplotlib.\n"
   ]
  },
  {
   "cell_type": "code",
   "execution_count": 3,
   "id": "fed29c58-79eb-43d0-b15d-05b718e173ca",
   "metadata": {},
   "outputs": [
    {
     "data": {
      "image/png": "[encoded data removed]",
      "text/plain": [
       "<Figure size 640x480 with 1 Axes>"
      ]
     },
     "metadata": {},
     "output_type": "display_data"
    }
   ],
   "source": [
    "import numpy as np\n",
    "import matplotlib.pyplot as plt\n",
    "n, p, size = 10, 0.4, 1000\n",
    "binomial_sample = np.random.binomial(n, p, size)\n",
    "plt.hist(binomial_sample, bins=10, color='blue', edgecolor='black', alpha=0.7)\n",
    "plt.xlabel(\"Number of Successes\")\n",
    "plt.ylabel(\"Frequency\")\n",
    "plt.title(\"Histogram of Binomial Distribution\")\n",
    "plt.show()\n"
   ]
  },
  {
   "cell_type": "markdown",
   "id": "08a21873-185c-4995-9ea1-2cf668c6bb6a",
   "metadata": {},
   "source": [
    "# Q6. Write a Python function to calculate the cumulative distribution function of a Poisson distribution with given mean at a given point.\n"
   ]
  },
  {
   "cell_type": "code",
   "execution_count": 5,
   "id": "04147531-4f3d-4235-bd4b-b20fa53e065b",
   "metadata": {},
   "outputs": [
    {
     "name": "stdout",
     "output_type": "stream",
     "text": [
      "0.8893260215974264\n"
     ]
    }
   ],
   "source": [
    "from scipy.stats import poisson\n",
    "def poisson_cdf(mean, x):\n",
    "    return poisson.cdf(x, mean)\n",
    "print(poisson_cdf(4, 6))"
   ]
  },
  {
   "cell_type": "markdown",
   "id": "63c9e6bd-4c82-4ea5-a03e-b2b1839b7ab3",
   "metadata": {},
   "source": [
    "# Q7. How Binomial distribution different from Poisson distribution?\n"
   ]
  },
  {
   "cell_type": "markdown",
   "id": "29aa7655-668d-4e1a-8fa6-bc0dc1096357",
   "metadata": {},
   "source": [
    "Binomial Distribution – Used for discrete trials with a fixed probability of success in a given number of trials.    \n",
    "Example: Probability of getting heads in 10 coin tosses.\n",
    "\n",
    "Poisson Distribution – Used for counting events that occur in a fixed interval of time/space, with an average rate.    \n",
    "Example: Number of calls received at a customer service center per hour."
   ]
  },
  {
   "cell_type": "markdown",
   "id": "9ea245ce-b4af-4422-9418-221f0aaf5a2e",
   "metadata": {},
   "source": [
    "# Q8. Generate a random sample of size 1000 from a Poisson distribution with mean 5 and calculate the sample mean and variance.\n"
   ]
  },
  {
   "cell_type": "code",
   "execution_count": 7,
   "id": "48e17a1c-c2b7-4430-9a33-adc7e097c779",
   "metadata": {},
   "outputs": [
    {
     "name": "stdout",
     "output_type": "stream",
     "text": [
      "Sample Mean: 4.976\n",
      "Sample Variance: 4.835423999999999\n"
     ]
    }
   ],
   "source": [
    "poisson_sample = np.random.poisson(5, 1000)\n",
    "sample_mean = np.mean(poisson_sample)\n",
    "sample_variance = np.var(poisson_sample)\n",
    "print(\"Sample Mean:\", sample_mean)\n",
    "print(\"Sample Variance:\", sample_variance)\n"
   ]
  },
  {
   "cell_type": "markdown",
   "id": "ed1c986d-5648-412f-897e-4b66897e64e9",
   "metadata": {},
   "source": [
    "# Q9. How mean and variance are related in Binomial distribution and Poisson distribution?\n"
   ]
  },
  {
   "cell_type": "markdown",
   "id": "ca0419ad-080b-4787-8ad0-a19c390e242d",
   "metadata": {},
   "source": [
    "Binomial Distribution:    \n",
    "Mean = n⋅p    \n",
    "Variance = n⋅p⋅(1−p)    \n",
    "Poisson Distribution:    \n",
    "Mean = Variance = λ    \n",
    "Thus, in Poisson distribution, the mean and variance are equal, while in Binomial distribution, variance depends on both n and p."
   ]
  },
  {
   "cell_type": "markdown",
   "id": "edaebc64-c049-4c0d-b9db-103e80696c10",
   "metadata": {},
   "source": [
    "# Q10. In normal distribution with respect to mean position, where does the least frequent data appear?"
   ]
  },
  {
   "cell_type": "markdown",
   "id": "2cd4fa97-6128-459f-a62e-02564d394e93",
   "metadata": {},
   "source": [
    "In a normal distribution, the least frequent data appears in the tails, i.e., far from the mean (both left and right extremes).\n",
    "This means data values that are several standard deviations away from the mean (such as in the 3rd standard deviation) have the lowest probability of occurring."
   ]
  }
 ],
 "metadata": {
  "kernelspec": {
   "display_name": "Python 3 (ipykernel)",
   "language": "python",
   "name": "python3"
  },
  "language_info": {
   "codemirror_mode": {
    "name": "ipython",
    "version": 3
   },
   "file_extension": ".py",
   "mimetype": "text/x-python",
   "name": "python",
   "nbconvert_exporter": "python",
   "pygments_lexer": "ipython3",
   "version": "3.12.1"
  }
 },
 "nbformat": 4,
 "nbformat_minor": 5
}

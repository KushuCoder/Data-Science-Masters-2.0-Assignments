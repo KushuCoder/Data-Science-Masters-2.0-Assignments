{
 "cells": [
  {
   "cell_type": "markdown",
   "id": "5429eaa7-f449-42f7-b2a8-5fbcefb76ef6",
   "metadata": {},
   "source": [
    "# Consider following code to answer further questions:\n",
    "import pandas as pd    \n",
    "course_name = [‘Data Science’, ‘Machine Learning’, ‘Big Data’, ‘Data Engineer’]    \n",
    "duration = [2,3,6,4]    \n",
    "df = pd.DataFrame(data = {‘course_name’ : course_name, ‘duration’ : duration})\n",
    "# Q1. Write a code to print the data present in the second row of the dataframe, df.\n"
   ]
  },
  {
   "cell_type": "code",
   "execution_count": 1,
   "id": "9dd6d839-22c9-4c93-b2e6-757874e98e99",
   "metadata": {},
   "outputs": [
    {
     "name": "stdout",
     "output_type": "stream",
     "text": [
      "course_name    Machine Learning\n",
      "duration                      3\n",
      "Name: 1, dtype: object\n"
     ]
    }
   ],
   "source": [
    "import pandas as pd\n",
    "\n",
    "course_name = ['Data Science', 'Machine Learning', 'Big Data', 'Data Engineer']\n",
    "duration = [2, 3, 6, 4]\n",
    "df = pd.DataFrame({'course_name': course_name, 'duration': duration})\n",
    "print(df.iloc[1])\n"
   ]
  },
  {
   "cell_type": "markdown",
   "id": "bb0d53b6-e11e-435f-a3ec-e98d47844ab7",
   "metadata": {},
   "source": [
    "# Q2. What is the difference between the functions loc and iloc in pandas.DataFrame?\n"
   ]
  },
  {
   "cell_type": "markdown",
   "id": "5f4d6819-c051-4e82-a4cd-71b220d9f221",
   "metadata": {},
   "source": [
    ".loc[] selects data based on labels (index values).    \n",
    ".iloc[] selects data based on position (integer index).\n"
   ]
  },
  {
   "cell_type": "markdown",
   "id": "e641bfc4-61c0-40c6-96cf-fa53c11aa5e5",
   "metadata": {},
   "source": [
    "# Q3. Reindex the given dataframe using a variable, reindex = [3,0,1,2] and store it in the variable, new_df then find the output for both new_df.loc[2] and new_df.iloc[2].\n",
    "# Did you observe any difference in both the outputs? If so then explain it.\n"
   ]
  },
  {
   "cell_type": "code",
   "execution_count": 4,
   "id": "37e9a66d-a3fe-4383-9079-af68e2209d08",
   "metadata": {},
   "outputs": [
    {
     "name": "stdout",
     "output_type": "stream",
     "text": [
      "course_name    Big Data\n",
      "duration              6\n",
      "Name: 2, dtype: object\n",
      "course_name    Machine Learning\n",
      "duration                      3\n",
      "Name: 1, dtype: object\n"
     ]
    }
   ],
   "source": [
    "reindex = [3, 0, 1, 2]\n",
    "new_df = df.reindex(reindex)\n",
    "\n",
    "print(new_df.loc[2])   # Access row with label 2\n",
    "print(new_df.iloc[2])  # Access third row in new index order\n",
    "#Observation:\n",
    "#loc[2] fetches data using original index labels.\n",
    "#iloc[2] fetches the third row after reindexing.\n"
   ]
  },
  {
   "cell_type": "markdown",
   "id": "1459a91b-cf0b-41fd-b568-121d60e66e2d",
   "metadata": {},
   "source": [
    "# Consider the below code to answer further questions:\n",
    "import pandas as pd    \n",
    "import numpy as np    \n",
    "columns = ['column_1', 'column_2', 'column_3', 'column_4', 'column_5', 'column_6']    \n",
    "indices = [1,2,3,4,5,6]    \n",
    "df1 = pd.DataFrame(np.random.rand(6,6), columns = columns, index = indices)\n"
   ]
  },
  {
   "cell_type": "markdown",
   "id": "e9f88b1e-62c4-4def-9a5a-a9a903c7cf7b",
   "metadata": {},
   "source": [
    "Q4. Write a code to find the following statistical measurements for the above dataframe df1:\n",
    " (i) mean of each and every column present in the dataframe.\n",
    " (ii) standard deviation of column, ‘column_2’\n"
   ]
  },
  {
   "cell_type": "code",
   "execution_count": 5,
   "id": "d1948011-8a6a-433a-b8f2-1bdc8fda81f1",
   "metadata": {},
   "outputs": [
    {
     "name": "stdout",
     "output_type": "stream",
     "text": [
      "column_1    0.400762\n",
      "column_2    0.453740\n",
      "column_3    0.660269\n",
      "column_4    0.455545\n",
      "column_5    0.410677\n",
      "column_6    0.403314\n",
      "dtype: float64\n",
      "0.34586460888331333\n"
     ]
    }
   ],
   "source": [
    "import numpy as np\n",
    "\n",
    "columns = ['column_1', 'column_2', 'column_3', 'column_4', 'column_5', 'column_6']\n",
    "indices = [1, 2, 3, 4, 5, 6]\n",
    "df1 = pd.DataFrame(np.random.rand(6, 6), columns=columns, index=indices)\n",
    "\n",
    "# (i) Mean of each column\n",
    "print(df1.mean())\n",
    "\n",
    "# (ii) Standard deviation of 'column_2'\n",
    "print(df1['column_2'].std())\n"
   ]
  },
  {
   "cell_type": "markdown",
   "id": "d5c7cff0-3b37-4f79-9160-9483c97732f7",
   "metadata": {},
   "source": [
    "Q5. Replace the data present in the second row of column, ‘column_2’ by a string variable then find the\n",
    "mean of column, column_2.\n",
    "If you are getting errors in executing it then explain why.\n",
    "[Hint: To replace the data use df1.loc[] and equate this to string data of your choice.]\n"
   ]
  },
  {
   "cell_type": "markdown",
   "id": "bdc0242b-a0b9-4e07-bcea-37f21f1ce83b",
   "metadata": {},
   "source": [
    "df1.loc[2, 'column_2'] = 'string_value'    \n",
    "print(df1['column_2'].mean())  # This will cause an error    \n",
    "Reason for error:\n",
    "\n",
    "The column now contains mixed data types (numeric + string).    \n",
    "Pandas can't calculate the mean of non-numeric values."
   ]
  },
  {
   "cell_type": "markdown",
   "id": "5438d4e6-d3da-4999-92d0-aa8d500a33e7",
   "metadata": {},
   "source": [
    "Q6. What do you understand about the windows function in pandas and list the types of windows\n",
    "functions?\n"
   ]
  },
  {
   "cell_type": "markdown",
   "id": "0c627dd9-c3f4-44be-9e12-396e6c5549a5",
   "metadata": {},
   "source": [
    "Definition: Window functions allow calculations over a sliding window of data.\n",
    "\n",
    "Types of Window Functions:\n",
    "\n",
    "Rolling Window: rolling() (e.g., moving averages)\n",
    "Expanding Window: expanding() (accumulates over time)\n",
    "Exponential Weighted Window: ewm() (gives more weight to recent values)"
   ]
  },
  {
   "cell_type": "markdown",
   "id": "62e59597-b03c-4f91-b852-59922a72396a",
   "metadata": {},
   "source": [
    "Q7. Write a code to print only the current month and year at the time of answering this question.\n",
    "[Hint: Use pandas.datetime function]\n"
   ]
  },
  {
   "cell_type": "code",
   "execution_count": 8,
   "id": "a03f584b-12be-401f-8e4c-805535f20493",
   "metadata": {},
   "outputs": [
    {
     "name": "stdout",
     "output_type": "stream",
     "text": [
      "March, 2025\n"
     ]
    }
   ],
   "source": [
    "import pandas as pd\n",
    "print(pd.Timestamp.today().strftime('%B, %Y'))\n"
   ]
  },
  {
   "cell_type": "markdown",
   "id": "26ee476f-c465-4a33-946c-e664d7290f12",
   "metadata": {},
   "source": [
    "Q8. Write a Python program that takes in two dates as input (in the format YYYY-MM-DD) and\n",
    "calculates the difference between them in days, hours, and minutes using Pandas time delta. The\n",
    "program should prompt the user to enter the dates and display the result.\n"
   ]
  },
  {
   "cell_type": "code",
   "execution_count": 10,
   "id": "f1a97a47-4b33-41fa-b73d-d23ac80a4d38",
   "metadata": {},
   "outputs": [
    {
     "name": "stdin",
     "output_type": "stream",
     "text": [
      "Enter first date (YYYY-MM-DD):  2002-01-01\n",
      "Enter second date (YYYY-MM-DD):  2003-02-02\n"
     ]
    },
    {
     "name": "stdout",
     "output_type": "stream",
     "text": [
      "Days: 397, Hours: 9528.0, Minutes: 571680.0\n"
     ]
    }
   ],
   "source": [
    "import pandas as pd\n",
    "\n",
    "date1 = input(\"Enter first date (YYYY-MM-DD): \")\n",
    "date2 = input(\"Enter second date (YYYY-MM-DD): \")\n",
    "\n",
    "date1 = pd.to_datetime(date1)\n",
    "date2 = pd.to_datetime(date2)\n",
    "\n",
    "delta = date2 - date1\n",
    "print(f\"Days: {delta.days}, Hours: {delta.total_seconds() // 3600}, Minutes: {delta.total_seconds() // 60}\")\n"
   ]
  },
  {
   "cell_type": "markdown",
   "id": "dad4839e-de33-4a72-a39f-06837e107fce",
   "metadata": {},
   "source": [
    "Q9. Write a Python program that reads a CSV file containing categorical data and converts a specified\n",
    "column to a categorical data type. The program should prompt the user to enter the file path, column\n",
    "name, and category order, and then display the sorted data.\n"
   ]
  },
  {
   "cell_type": "code",
   "execution_count": null,
   "id": "0f496c02-23c9-4632-bc6b-d9566e4bbfb5",
   "metadata": {},
   "outputs": [],
   "source": [
    "file_path = input(\"Enter CSV file path: \")\n",
    "column_name = input(\"Enter column to convert: \")\n",
    "category_order = input(\"Enter category order (comma-separated): \").split(\",\")\n",
    "\n",
    "df = pd.read_csv(file_path)\n",
    "df[column_name] = pd.Categorical(df[column_name], categories=category_order, ordered=True)\n",
    "\n",
    "print(df.sort_values(by=column_name))\n"
   ]
  },
  {
   "cell_type": "markdown",
   "id": "8b354ab0-dde4-4112-ab6b-c013acaca275",
   "metadata": {},
   "source": [
    "Q10. Write a Python program that reads a CSV file containing sales data for different products and\n",
    "visualizes the data using a stacked bar chart to show the sales of each product category over time. The\n",
    "program should prompt the user to enter the file path and display the chart.\n"
   ]
  },
  {
   "cell_type": "code",
   "execution_count": null,
   "id": "4db433b7-c1f9-4d57-86f8-59f1885a7581",
   "metadata": {},
   "outputs": [],
   "source": [
    "import pandas as pd\n",
    "import matplotlib.pyplot as plt\n",
    "\n",
    "file_path = input(\"Enter CSV file path: \")\n",
    "df = pd.read_csv(file_path)\n",
    "\n",
    "df.pivot(index='Date', columns='Product', values='Sales').plot(kind='bar', stacked=True)\n",
    "plt.ylabel(\"Sales\")\n",
    "plt.title(\"Sales by Product Over Time\")\n",
    "plt.xticks(rotation=45)\n",
    "plt.show()\n"
   ]
  },
  {
   "cell_type": "markdown",
   "id": "faec250c-805b-4792-ac3b-bc4f788e33bd",
   "metadata": {},
   "source": [
    "Q11. You are given a CSV file containing student data that includes the student ID and their test score. Write\n",
    "a Python program that reads the CSV file, calculates the mean, median, and mode of the test scores, and\n",
    "displays the results in a table.\n",
    "The program should do the followingM    \n",
    "I Prompt the user to enter the file path of the CSV file containing the student dataR   \n",
    "I Read the CSV file into a Pandas DataFrameR    \n",
    "I Calculate the mean, median, and mode of the test scores using Pandas toolsR    \n",
    "I Display the mean, median, and mode in a table. \n",
    "Assume the CSV file contains the following columnsM\n",
    "I Student ID: The ID of the studentR\n",
    "I Test Score: The score of the student's test.\n",
    "Example usage of the program:\n",
    "Enter the file path of the CSV file containing the student data: student_data.csv\n",
    "+-----------+--------+    \n",
    "| Statistic | Value |    \n",
    "+-----------+--------+    \n",
    "| Mean | 79.6 |    \n",
    "| Median | 82 |    \n",
    "| Mode | 85, 90 |    \n",
    "+-----------+--------+    \n",
    "Assume that the CSV file student_data.csv contains the following data:    \n",
    "Student ID,Test Score    \n",
    "1,85    \n",
    "2,90    \n",
    "3,80    \n",
    "4,75    \n",
    "5,85    \n",
    "6,82   \n",
    "7,78    \n",
    "8,85    \n",
    "9,90    \n",
    "10,85    \n",
    "The program should calculate the mean, median, and mode of the test scores and display the results\n",
    "in a table."
   ]
  },
  {
   "cell_type": "code",
   "execution_count": null,
   "id": "c065a3ad-df2c-4467-a0a2-f934e5778d75",
   "metadata": {},
   "outputs": [],
   "source": [
    "import pandas as pd\n",
    "\n",
    "file_path = input(\"Enter the file path of the CSV: \")\n",
    "df = pd.read_csv(file_path)\n",
    "\n",
    "mean_val = df['Test Score'].mean()\n",
    "median_val = df['Test Score'].median()\n",
    "mode_val = df['Test Score'].mode().tolist()\n",
    "\n",
    "# Display in table format\n",
    "print(\"+-----------+--------+\")\n",
    "print(\"| Statistic | Value  |\")\n",
    "print(\"+-----------+--------+\")\n",
    "print(f\"| Mean      | {mean_val:.1f}  |\")\n",
    "print(f\"| Median    | {median_val:.1f}  |\")\n",
    "print(f\"| Mode      | {', '.join(map(str, mode_val))}  |\")\n",
    "print(\"+-----------+--------+\")\n"
   ]
  }
 ],
 "metadata": {
  "kernelspec": {
   "display_name": "Python 3 (ipykernel)",
   "language": "python",
   "name": "python3"
  },
  "language_info": {
   "codemirror_mode": {
    "name": "ipython",
    "version": 3
   },
   "file_extension": ".py",
   "mimetype": "text/x-python",
   "name": "python",
   "nbconvert_exporter": "python",
   "pygments_lexer": "ipython3",
   "version": "3.12.1"
  }
 },
 "nbformat": 4,
 "nbformat_minor": 5
}

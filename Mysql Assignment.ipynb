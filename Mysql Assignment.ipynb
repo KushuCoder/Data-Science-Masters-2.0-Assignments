{
 "cells": [
  {
   "cell_type": "markdown",
   "id": "ebe1767c-6e2d-4591-8a35-fa2940452c7b",
   "metadata": {},
   "source": [
    "# Q1. What is a database? Differentiate between SQL and NoSQL databases."
   ]
  },
  {
   "cell_type": "markdown",
   "id": "17c8dc04-1b44-471f-bfad-463bb7369f8e",
   "metadata": {},
   "source": [
    "A database is acollection of data that is used to store, retrieve, manage, and manipulate information efficiently.\n",
    "\n",
    "## Differences Between SQL and NoSQL Databases\n",
    "SQL databases are structured and store data in tables with predefined schemas, whereas NoSQL databases use schema-less models     \n",
    "SQL databases use Structured Query Language (SQL), whereas NoSQL databases use various query mechanisms, often specific to the database type.     \n",
    "SQL databases scale vertically, while NoSQL databases scale horizontally.     \n",
    "SQL databases are best for structured data, whereas NoSQL is suited for column oriented data"
   ]
  },
  {
   "cell_type": "markdown",
   "id": "e8fe4a86-fa49-44ab-bd87-0b429d80f2d6",
   "metadata": {},
   "source": [
    "# Q2. What is DDL? Explain why CREATE, DROP, ALTER, and TRUNCATE are used with an example.\n"
   ]
  },
  {
   "cell_type": "markdown",
   "id": "2f1b855f-df1d-45cb-b978-c4cc77f48eae",
   "metadata": {},
   "source": [
    "DDL (Data Definition Language): Consists of SQL commands that define and modify database structures.\n",
    "## Example\n",
    "CREATE TABLE students (id INT PRIMARY KEY,name VARCHAR(50),age INT);        \n",
    "DROP TABLE students;         \n",
    "ALTER TABLE students ADD email VARCHAR(100);      \n",
    "TRUNCATE TABLE students;\n"
   ]
  },
  {
   "cell_type": "markdown",
   "id": "e340fe5c-a200-473e-875c-93384cff1a39",
   "metadata": {},
   "source": [
    "# Q3. What is DML? Explain INSERT, UPDATE, and DELETE with an example.\n"
   ]
  },
  {
   "cell_type": "markdown",
   "id": "59acf025-f89b-4c85-9930-78456def5a1d",
   "metadata": {},
   "source": [
    "DML (Data Manipulation Language) consists of SQL commands that modify the data in a database.\n",
    "## Example:\n",
    "INSERT INTO students (id, name, age) VALUES (1, 'John Doe', 22);      \n",
    "UPDATE students SET age = 23 WHERE id = 1;         \n",
    "DELETE FROM students WHERE id = 1;\n"
   ]
  },
  {
   "cell_type": "markdown",
   "id": "232273a9-abd6-4765-bba6-5d02886b6ddf",
   "metadata": {},
   "source": [
    "# Q4. What is DQL? Explain SELECT with an example.\n"
   ]
  },
  {
   "cell_type": "markdown",
   "id": "64457c4a-b660-450d-81fa-7a1717d843f6",
   "metadata": {},
   "source": [
    "DQL (Data Query Language) is used to retrieve data from a database. The primary command in DQL is SELECT.\n",
    "## Example\n",
    "SELECT name, age FROM students WHERE age > 20;"
   ]
  },
  {
   "cell_type": "markdown",
   "id": "4211e388-260c-4609-8704-57df2b9704d0",
   "metadata": {},
   "source": [
    "# Q5. Explain Primary Key and Foreign Key.\n"
   ]
  },
  {
   "cell_type": "markdown",
   "id": "0a155b1c-517a-436f-8d60-48c10e1d4ee1",
   "metadata": {},
   "source": [
    "Primary Key: A primary key uniquely identifies each record in a table. It must contain unique and non-null values.      \n",
    "Foreign Key: A foreign key in one table refers to the primary key in another table, establishing a relationship between them."
   ]
  },
  {
   "cell_type": "markdown",
   "id": "d5838248-eb92-497f-a492-5db15a508fe5",
   "metadata": {},
   "source": [
    "# Q6. Write a python code to connect MySQL to python. Explain the cursor() and execute() method.\n"
   ]
  },
  {
   "cell_type": "markdown",
   "id": "2e589acd-80d8-4e52-b2e8-a5554fcc08ce",
   "metadata": {},
   "source": [
    "import mysql.connector     \n",
    "conn = mysql.connector.connect(host=\"localhost\",user=\"root\",password=\"password\",database=\"school\")\n",
    "## cursor:Creates a cursor object that allows execution of SQL queries.\n",
    "## execute:Runs an SQL query passed as an argument."
   ]
  },
  {
   "cell_type": "markdown",
   "id": "61bce73b-9f73-4079-a089-c3749d0f1e1a",
   "metadata": {},
   "source": [
    "# Q7. Give the order of execution of SQL clauses in an SQL query."
   ]
  },
  {
   "cell_type": "markdown",
   "id": "39c1cd95-65ae-4211-9de1-16449bb5ca33",
   "metadata": {},
   "source": [
    "FROM – Identifies the source table(s).     \n",
    "WHERE – Filters rows based on conditions.     \n",
    "GROUP BY – Groups rows based on specified columns.     \n",
    "HAVING – Filters groups based on conditions.     \n",
    "SELECT – Specifies columns to retrieve.     \n",
    "ORDER BY – Sorts the result set.     \n",
    "LIMIT – Limits the number of rows returned."
   ]
  }
 ],
 "metadata": {
  "kernelspec": {
   "display_name": "Python 3 (ipykernel)",
   "language": "python",
   "name": "python3"
  },
  "language_info": {
   "codemirror_mode": {
    "name": "ipython",
    "version": 3
   },
   "file_extension": ".py",
   "mimetype": "text/x-python",
   "name": "python",
   "nbconvert_exporter": "python",
   "pygments_lexer": "ipython3",
   "version": "3.12.1"
  }
 },
 "nbformat": 4,
 "nbformat_minor": 5
}

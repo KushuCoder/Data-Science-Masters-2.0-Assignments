{
 "cells": [
  {
   "cell_type": "markdown",
   "id": "39154b06-78aa-43c1-b036-16af3619bff3",
   "metadata": {},
   "source": [
    "# Q1. What is multithreading in python? Why is it used? Name the module used to handle threads in python.\n"
   ]
  },
  {
   "cell_type": "markdown",
   "id": "71f528b7-7503-4053-b620-8808ceb94409",
   "metadata": {},
   "source": [
    "Multithreading is a technique in which multiple threads are executed concurrently within a single process.\n",
    "### Uses\n",
    "Improves performance for I/O-bound tasks.           \n",
    "Allows multiple operations to execute simultaneously, making applications more responsive.      \n",
    "Efficient use of CPU cycles when threads are waiting for I/O operations.       \n",
    "-->Python provides the threading module to handle threads."
   ]
  },
  {
   "cell_type": "markdown",
   "id": "392e34ee-ec80-4bda-b6f4-3714988a34c0",
   "metadata": {},
   "source": [
    "# Q2. Why threading module used? Write the use of the following functions\n",
    "## 1. activeCount()\n",
    "## 2. currentThread()\n",
    "## 3. enumerate()\n"
   ]
  },
  {
   "cell_type": "markdown",
   "id": "8621b974-1673-4439-8cc7-e368e54ee742",
   "metadata": {},
   "source": [
    "The threading module provides methods for managing threads in Python.\n",
    "## Functions and Their Uses\n",
    "activeCount() --> Returns the number of currently active threads.     \n",
    "currentThread() --> Returns the current executing thread object.     \n",
    "threading.enumerate() --> Returns a list of all active Thread objects.     "
   ]
  },
  {
   "cell_type": "markdown",
   "id": "163adffd-ae01-48c9-9b44-e0aaed71fdb2",
   "metadata": {},
   "source": [
    "# Q3. Explain the following functions\n",
    "## 1. run()\n",
    "## 2. start()\n",
    "## 3. join()\n",
    "## 4. isAlive()\n"
   ]
  },
  {
   "cell_type": "markdown",
   "id": "714aa21a-4cb1-4117-98e9-56e969d24a1e",
   "metadata": {},
   "source": [
    "## run()\n",
    "Defines the behavior of a thread when started. If a class-based thread is used, the run() method should be overridden.\n",
    "## start()\n",
    "Starts the execution of a thread by internally calling the run() method.\n",
    "## join()\n",
    "Waits for a thread to complete execution before proceeding.\n",
    "## isAlive()\n",
    "Checks if a thread is still running."
   ]
  },
  {
   "cell_type": "markdown",
   "id": "ccb23cb9-6666-428d-9e34-9fbeae09aead",
   "metadata": {},
   "source": [
    "# Q4. Write a python program to create two threads. Thread one must print the list of squares and thread two must print the list of cubes.\n"
   ]
  },
  {
   "cell_type": "code",
   "execution_count": 1,
   "id": "94a8f5b1-701c-42aa-a025-c8cdc2995f3c",
   "metadata": {},
   "outputs": [
    {
     "name": "stdout",
     "output_type": "stream",
     "text": [
      "Squares: [1, 4, 9, 16, 25]\n",
      "Cubes: [1, 8, 27, 64, 125]\n"
     ]
    }
   ],
   "source": [
    "import threading\n",
    "def print_squares():\n",
    "    squares = [i ** 2 for i in range(1, 6)]\n",
    "    print(f\"Squares: {squares}\")\n",
    "\n",
    "def print_cubes():\n",
    "    cubes = [i ** 3 for i in range(1, 6)]\n",
    "    print(f\"Cubes: {cubes}\")\n",
    "\n",
    "t1 = threading.Thread(target=print_squares)\n",
    "t2 = threading.Thread(target=print_cubes)\n",
    "t1.start()\n",
    "t2.start()\n",
    "t1.join()\n",
    "t2.join()"
   ]
  },
  {
   "cell_type": "markdown",
   "id": "604e6ca0-ef61-449c-b2c2-d7eff76ac65c",
   "metadata": {},
   "source": [
    "# Q5. State advantages and disadvantages of multithreading.\n"
   ]
  },
  {
   "cell_type": "markdown",
   "id": "5004cd5f-661e-4113-9973-d1533759c02f",
   "metadata": {},
   "source": [
    "## Advantages\n",
    " Uses CPU cycles efficiently during I/O waits.\n",
    "Faster Execution, Improves performance for I/O-bound tasks like file handling and network communication.\n",
    "Concurrency – Multiple tasks can run simultaneously.\n",
    "## Disadvantages\n",
    "Debugging multithreaded programs is harder due to race conditions and deadlocks.\n",
    "Increased Memory Usage – Each thread consumes memory and system resources."
   ]
  },
  {
   "cell_type": "markdown",
   "id": "ded7df3b-f33e-406a-86b0-4dd9b90d02b5",
   "metadata": {},
   "source": [
    "# Q6. Explain deadlocks and race conditions."
   ]
  },
  {
   "cell_type": "markdown",
   "id": "af0fcd50-40a4-49de-b4ea-97626a83ba85",
   "metadata": {},
   "source": [
    "A deadlock occurs when two or more threads are waiting for resources held by each other, leading to an infinite wait state.      \n",
    "A race condition occurs when multiple threads access shared data simultaneously, leading to inconsistent or incorrect results."
   ]
  }
 ],
 "metadata": {
  "kernelspec": {
   "display_name": "Python 3 (ipykernel)",
   "language": "python",
   "name": "python3"
  },
  "language_info": {
   "codemirror_mode": {
    "name": "ipython",
    "version": 3
   },
   "file_extension": ".py",
   "mimetype": "text/x-python",
   "name": "python",
   "nbconvert_exporter": "python",
   "pygments_lexer": "ipython3",
   "version": "3.12.1"
  }
 },
 "nbformat": 4,
 "nbformat_minor": 5
}

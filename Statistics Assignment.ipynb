{
 "cells": [
  {
   "cell_type": "markdown",
   "id": "5102f30d-2fea-4d8c-8d2a-13641014e0ed",
   "metadata": {},
   "source": [
    "# Q1. What is Statistics?\n"
   ]
  },
  {
   "cell_type": "markdown",
   "id": "39460fe5-da97-45ae-880c-fd4bb945f56b",
   "metadata": {},
   "source": [
    "Statistics is the branch of mathematics that deals with collecting, organizing, analyzing, interpreting, and presenting data to make informed decisions. It helps in understanding patterns, trends, and relationships in data."
   ]
  },
  {
   "cell_type": "markdown",
   "id": "4da29e64-c7a3-4ef0-b373-4579aee5334c",
   "metadata": {},
   "source": [
    "# Q2. Define the different types of statistics and give an example of when each type might be used.\n"
   ]
  },
  {
   "cell_type": "markdown",
   "id": "cd5f46fd-995c-4d5c-b7b3-e3a97f740eaf",
   "metadata": {},
   "source": [
    "Descriptive Statistics – Summarizes and describes data using measures like mean, median, and standard deviation.    \n",
    "\n",
    "Example: Finding the average test score of a class.    \n",
    "Inferential Statistics – Makes predictions or generalizations about a population based on a sample.    \n",
    "\n",
    "Example: Conducting a survey on 500 people to estimate the voting preference of a country.    "
   ]
  },
  {
   "cell_type": "markdown",
   "id": "3d2f51d0-0a5c-4bd5-b458-e0e4e662e31c",
   "metadata": {},
   "source": [
    "# Q3. What are the different types of data and how do they differ from each other? Provide an example of each type of data.\n",
    "\n"
   ]
  },
  {
   "cell_type": "markdown",
   "id": "46825696-71e1-4084-8446-0fb79e4302a2",
   "metadata": {},
   "source": [
    "Qualitative (Categorical) Data – Non-numeric, represents categories or labels.    \n",
    "\n",
    "Example: Eye color (Brown, Blue, Green).    \n",
    "Quantitative (Numerical) Data – Numeric values that can be measured.    \n",
    "\n",
    "Example: Height in centimeters (170 cm, 165 cm).    \n",
    "\n",
    "Discrete Data: Countable, whole numbers (e.g., Number of students in a class).    \n",
    "\n",
    "Continuous Data: Measured with decimals (e.g., Weight in kg)."
   ]
  },
  {
   "cell_type": "markdown",
   "id": "c013c13b-a6d9-4cfb-9de4-2e578ead80db",
   "metadata": {},
   "source": [
    "# Q4. Categorise the following datasets with respect to quantitative and qualitative data types:\n",
    "(i) Grading in exam: A+, A, B+, B, C+, C, D, E\n",
    "(ii) Colour of mangoes: yellow, green, orange, red\n",
    "(iii) Height data of a class: [178.9, 179, 179.5, 176, 177.2, 178.3, 175.8,...]\n",
    "(iv) Number of mangoes exported by a farm: [500, 600, 478, 672, ...]"
   ]
  },
  {
   "cell_type": "markdown",
   "id": "88200ed6-4466-47d9-b7a1-043d60adfa1d",
   "metadata": {},
   "source": [
    "Grading in exam (A+, A, B+, B, C+, C, D, E) → Qualitative (Ordinal)    \n",
    "\n",
    "Since grades have a meaningful order but no precise numerical difference, it falls under ordinal data.    \n",
    "Colour of mangoes (yellow, green, orange, red) → Qualitative (Nominal)    \n",
    "\n",
    "Colors are categories without any inherent ranking, making them nominal data.    \n",
    "Height data of a class ([178.9, 179, 179.5, 176, 177.2, ...]) → Quantitative (Continuous)    \n",
    "\n",
    "Heights are numerical and measured on a continuous scale, making them continuous data.    \n",
    "Number of mangoes exported by a farm ([500, 600, 478, 672, ...]) → Quantitative (Discrete)    \n",
    "\n",
    "The number of mangoes is counted in whole numbers, making it discrete data."
   ]
  },
  {
   "cell_type": "markdown",
   "id": "c7aebbe1-5e76-41aa-a886-ad46f3d9a203",
   "metadata": {},
   "source": [
    "# Q5. Explain the concept of levels of measurement and give an example of a variable for each level.\n"
   ]
  },
  {
   "cell_type": "markdown",
   "id": "99eea75f-9b30-4357-90bc-9e2199004ba7",
   "metadata": {},
   "source": [
    "Nominal – Categorical data without any order.    \n",
    "\n",
    "Example: Types of fruits (Apple, Banana, Orange).    \n",
    "Ordinal – Ordered categories, but differences between them are not meaningful.    \n",
    "\n",
    "Example: Satisfaction rating (Poor, Average, Good, Excellent).     \n",
    "Interval – Numeric values with meaningful differences but no true zero.      \n",
    "\n",
    "Example: Temperature in Celsius (0°C does not mean 'no temperature').     \n",
    "Ratio – Numeric values with a true zero, allowing for ratio comparisons.     \n",
    "\n",
    "Example: Height, weight, income."
   ]
  },
  {
   "cell_type": "markdown",
   "id": "4667df2e-25e8-4eef-986e-e275fad3eda9",
   "metadata": {},
   "source": [
    "# Q6. Why is it important to understand the level of measurement when analyzing data? Provide an example to illustrate your answer.\n"
   ]
  },
  {
   "cell_type": "markdown",
   "id": "d478fc8c-cff6-42a3-88be-43191f847b34",
   "metadata": {},
   "source": [
    "It determines which statistical techniques can be applied.    \n",
    "\n",
    "Example: You cannot calculate an average for a nominal variable like \"eye color,\" but you can calculate an average for a ratio variable like \"salary.\""
   ]
  },
  {
   "cell_type": "markdown",
   "id": "d4147838-84a2-445a-b40a-3663aa8bef97",
   "metadata": {},
   "source": [
    "# Q7. How nominal data type is different from ordinal data type.\n"
   ]
  },
  {
   "cell_type": "markdown",
   "id": "2bd47923-e6a3-4d54-a20d-40e2b24253d0",
   "metadata": {},
   "source": [
    "Nominal – No order or ranking (e.g., Car brands: Toyota, Honda, Ford).    \n",
    "Ordinal – Ordered categories, but differences are undefined (e.g., Education levels: High School < Bachelor’s < Master’s)."
   ]
  },
  {
   "cell_type": "markdown",
   "id": "aebf08ac-ad77-4f0c-bd8e-5d56d843fde7",
   "metadata": {},
   "source": [
    "# Q8. Which type of plot can be used to display data in terms of range?\n"
   ]
  },
  {
   "cell_type": "markdown",
   "id": "de15257a-aba4-4d8a-960e-a1f12152f644",
   "metadata": {},
   "source": [
    "A Box Plot is commonly used to show the range, median, and distribution of data. It helps visualize outliers and spread of data."
   ]
  },
  {
   "cell_type": "markdown",
   "id": "96011726-1b05-4ca1-b1a7-b7090234067e",
   "metadata": {},
   "source": [
    "# Q9. Describe the difference between descriptive and inferential statistics. Give an example of each type of statistics and explain how they are used.\n"
   ]
  },
  {
   "cell_type": "markdown",
   "id": "266e2bbe-eeca-4d41-a053-301329ff89e9",
   "metadata": {},
   "source": [
    "Descriptive Statistics – Summarizes a dataset using numbers and graphs.    \n",
    "Example: Calculating the mean age of employees in a company.    \n",
    "Inferential Statistics – Draws conclusions about a population from a sample.    \n",
    "Example: Predicting election results based on an exit poll."
   ]
  },
  {
   "cell_type": "markdown",
   "id": "3b10e0b5-060f-4a5a-ac4e-848e7d06bd59",
   "metadata": {},
   "source": [
    "# Q10. What are some common measures of central tendency and variability used in statistics? Explain how each measure can be used to describe a dataset."
   ]
  },
  {
   "cell_type": "markdown",
   "id": "7849191b-1d09-4cf0-8bca-850b2da73671",
   "metadata": {},
   "source": [
    "Measures of Central Tendency (How Data is Centered)    \n",
    "Mean – Average value of a dataset.    \n",
    "Example: Average salary of employees in a company.    \n",
    "Median – Middle value when sorted.    \n",
    "Example: Median house price in a city.    \n",
    "Mode – Most frequently occurring value.    \n",
    "Example: Most common blood type in a hospital.    \n",
    "Measures of Variability (How Data is Spread)    \n",
    "Range – Difference between max and min values.    \n",
    "Variance – Measures how data points differ from the mean.    \n",
    "Standard Deviation – Square root of variance, showing data spread.    \n",
    "Interquartile Range (IQR) – Range between Q1 and Q3, helps detect outliers.    \n",
    "Each measure helps summarize and understand data distributions effectively."
   ]
  }
 ],
 "metadata": {
  "kernelspec": {
   "display_name": "Python 3 (ipykernel)",
   "language": "python",
   "name": "python3"
  },
  "language_info": {
   "codemirror_mode": {
    "name": "ipython",
    "version": 3
   },
   "file_extension": ".py",
   "mimetype": "text/x-python",
   "name": "python",
   "nbconvert_exporter": "python",
   "pygments_lexer": "ipython3",
   "version": "3.12.1"
  }
 },
 "nbformat": 4,
 "nbformat_minor": 5
}

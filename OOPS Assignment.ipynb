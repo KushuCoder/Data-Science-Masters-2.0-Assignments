{
 "cells": [
  {
   "cell_type": "markdown",
   "id": "4812230e-b437-429a-84c3-442bc4fe7f19",
   "metadata": {},
   "source": [
    "# Q1. Explain Class and Object with respect to Object-Oriented Programming. Give a suitable example."
   ]
  },
  {
   "cell_type": "markdown",
   "id": "aadad496-bdce-42e6-b8d3-1b46c06844c1",
   "metadata": {},
   "source": [
    "Class:\n",
    "A class is a combination of variables and functions\n",
    "Object:\n",
    "An object is an instance of a class.\n",
    "It is used for storing the values in variables and accessing the functions"
   ]
  },
  {
   "cell_type": "code",
   "execution_count": 1,
   "id": "dbebb9ef-0a99-466c-8886-e0eb32d621b3",
   "metadata": {},
   "outputs": [],
   "source": [
    "class Car:\n",
    "    def __init__(self,brand,year):\n",
    "        self.brand = brand\n",
    "        self.year = year\n",
    "car1 = Car(\"kushwanth_car\",2003)"
   ]
  },
  {
   "cell_type": "markdown",
   "id": "0cbaf503-eead-40cd-a5e9-b92a87909e09",
   "metadata": {},
   "source": [
    "# Q2. Name the four pillars of OOPs."
   ]
  },
  {
   "cell_type": "markdown",
   "id": "406f7613-6994-4098-9e10-68e6437abd2e",
   "metadata": {},
   "source": [
    "The four main pillars of Object-Oriented Programming (OOP) are:  \n",
    "Encapsulation,Abstraction,Inheritance,Polymorphism"
   ]
  },
  {
   "cell_type": "markdown",
   "id": "86b92a54-e30c-4f7f-917d-686a0854d63c",
   "metadata": {},
   "source": [
    "# Q3. Explain why the __init__() function is used. Give a suitable example."
   ]
  },
  {
   "cell_type": "code",
   "execution_count": 4,
   "id": "a0996b3e-9f51-454a-bc7b-9ed79f726d07",
   "metadata": {},
   "outputs": [],
   "source": [
    "#The __init__() function is a constructor,it is automatically called when an object is created and is used to initialize values\n",
    "class Car:\n",
    "    def __init__(self,brand,year):\n",
    "        self.brand = brand\n",
    "        self.year = year\n",
    "car1 = Car(\"kushwanth_car\",2003)"
   ]
  },
  {
   "cell_type": "markdown",
   "id": "49cc173d-8bf1-4920-abb8-1512feea47f7",
   "metadata": {},
   "source": [
    "# Q4. Why self is used in OOPs?"
   ]
  },
  {
   "cell_type": "markdown",
   "id": "61acb194-c2c1-4c97-80d7-3c21bc45dd58",
   "metadata": {},
   "source": [
    "self is used to access attributes and methods within the class.\n",
    "It allows each object to maintain its own unique data."
   ]
  },
  {
   "cell_type": "markdown",
   "id": "eb79d6d0-4237-4e39-a173-b73b70d0e888",
   "metadata": {},
   "source": [
    "# Q5. What is inheritance? Give an example for each type of inheritance."
   ]
  },
  {
   "cell_type": "code",
   "execution_count": 5,
   "id": "e8fc2906-f3c5-4f58-a57e-f83a0b844be4",
   "metadata": {},
   "outputs": [
    {
     "name": "stdout",
     "output_type": "stream",
     "text": [
      "Animal makes a sound\n",
      "Dog barks\n",
      "Father is tall\n",
      "Mother has fair skin\n",
      "Grandfather's legacy\n",
      "Father's wisdom\n",
      "This is the Parent class\n",
      "This is the Parent class\n",
      "Class A method\n",
      "Class B method\n",
      "Class C method\n",
      "Class D method\n"
     ]
    }
   ],
   "source": [
    "#Inheritance is the process where a child class derives from a parent class\n",
    "#Single Inheritance - One child class inherits from one parent class.\n",
    "class Animal:\n",
    "    def speak(self):\n",
    "        print(\"Animal makes a sound\")\n",
    "class Dog(Animal):\n",
    "    def bark(self):\n",
    "        print(\"Dog barks\")\n",
    "d = Dog()\n",
    "d.speak()\n",
    "d.bark()\n",
    "\n",
    "#Multiple Inheritance - A child class inherits from multiple parent classes.\n",
    "class Father:\n",
    "    def height(self):\n",
    "        print(\"Father is tall\")\n",
    "class Mother:\n",
    "    def skin_color(self):\n",
    "        print(\"Mother has fair skin\")\n",
    "class Child(Father, Mother):\n",
    "    pass\n",
    "c = Child()\n",
    "c.height()     \n",
    "c.skin_color()  \n",
    "\n",
    "#Multilevel Inheritance → A child class inherits from a parent class, which in turn inherits from another class.\n",
    "class Grandfather:\n",
    "    def legacy(self):\n",
    "        print(\"Grandfather's legacy\")\n",
    "class Father(Grandfather):\n",
    "    def wisdom(self):\n",
    "        print(\"Father's wisdom\")\n",
    "class Child(Father):\n",
    "    pass\n",
    "c=Child()\n",
    "c.legacy() \n",
    "c.wisdom()\n",
    "\n",
    "#Hierarchical Inheritance → Multiple child classes inherit from the same parent class.\n",
    "class Parent:\n",
    "    def show(self):\n",
    "        print(\"This is the Parent class\")\n",
    "class Child1(Parent):\n",
    "    pass\n",
    "class Child2(Parent):\n",
    "    pass\n",
    "c1 = Child1()\n",
    "c2 = Child2()\n",
    "c1.show() \n",
    "c2.show() \n",
    "\n",
    "#Hybrid Inheritance → A combination of different types of inheritance.\n",
    "class A:\n",
    "    def method_A(self):\n",
    "        print(\"Class A method\")\n",
    "class B(A):\n",
    "    def method_B(self):\n",
    "        print(\"Class B method\")\n",
    "class C(A):\n",
    "    def method_C(self):\n",
    "        print(\"Class C method\")\n",
    "class D(B, C):\n",
    "    def method_D(self):\n",
    "        print(\"Class D method\")\n",
    "obj = D()\n",
    "obj.method_A()\n",
    "obj.method_B()\n",
    "obj.method_C()\n",
    "obj.method_D()\n"
   ]
  },
  {
   "cell_type": "code",
   "execution_count": null,
   "id": "087a2fed-d952-4ee6-a8c1-f710222b7b6c",
   "metadata": {},
   "outputs": [],
   "source": []
  }
 ],
 "metadata": {
  "kernelspec": {
   "display_name": "Python 3 (ipykernel)",
   "language": "python",
   "name": "python3"
  },
  "language_info": {
   "codemirror_mode": {
    "name": "ipython",
    "version": 3
   },
   "file_extension": ".py",
   "mimetype": "text/x-python",
   "name": "python",
   "nbconvert_exporter": "python",
   "pygments_lexer": "ipython3",
   "version": "3.12.1"
  }
 },
 "nbformat": 4,
 "nbformat_minor": 5
}

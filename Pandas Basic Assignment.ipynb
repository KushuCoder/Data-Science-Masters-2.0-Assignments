{
 "cells": [
  {
   "cell_type": "markdown",
   "id": "3aa53517-dda3-491f-830f-877554284ac4",
   "metadata": {},
   "source": [
    "# Q1. Create a Pandas Series that contains the following data: 4, 8, 15, 16, 23, and 42. Then, print the series.\n"
   ]
  },
  {
   "cell_type": "code",
   "execution_count": 2,
   "id": "89fa499d-2985-4c6f-bed3-0ba2fdab7bb4",
   "metadata": {},
   "outputs": [
    {
     "name": "stdout",
     "output_type": "stream",
     "text": [
      "0     4\n",
      "1     8\n",
      "2    15\n",
      "3    16\n",
      "4    23\n",
      "5    42\n",
      "dtype: int64\n"
     ]
    }
   ],
   "source": [
    "import pandas as pd\n",
    "series = pd.Series([4, 8, 15, 16, 23, 42])\n",
    "print(series)"
   ]
  },
  {
   "cell_type": "markdown",
   "id": "a8ee22b1-02eb-49f5-8045-f24d2e400a90",
   "metadata": {},
   "source": [
    "# Q2. Create a variable of list type containing 10 elements in it, and apply pandas.Series function on the variable print it."
   ]
  },
  {
   "cell_type": "code",
   "execution_count": 3,
   "id": "40a5b65a-1f9d-44e0-ab23-29233203dc7b",
   "metadata": {},
   "outputs": [
    {
     "name": "stdout",
     "output_type": "stream",
     "text": [
      "0     1\n",
      "1     2\n",
      "2     3\n",
      "3     4\n",
      "4     5\n",
      "5     6\n",
      "6     7\n",
      "7     8\n",
      "8     9\n",
      "9    10\n",
      "dtype: int64\n"
     ]
    }
   ],
   "source": [
    "my_list = [1, 2, 3, 4, 5, 6, 7, 8, 9, 10]\n",
    "series_from_list = pd.Series(my_list)\n",
    "print(series_from_list)"
   ]
  },
  {
   "cell_type": "markdown",
   "id": "4eef3451-467c-4e32-a6c6-2a3fa62c5102",
   "metadata": {},
   "source": [
    "# Q3. Create a Pandas DataFrame that contains the following data:\n",
    "{Name:Alice,Age:25,Gender:Female}    \n",
    "{Name:Bob,Age:30,Gender:Male}    \n",
    "{Name:Claire,Age:27,Gender:Female}     \n",
    "Then, print the DataFrame."
   ]
  },
  {
   "cell_type": "code",
   "execution_count": 4,
   "id": "9aa1d080-e06c-4851-bda1-0d31e11c61e4",
   "metadata": {},
   "outputs": [
    {
     "name": "stdout",
     "output_type": "stream",
     "text": [
      "     Name  Age  Gender\n",
      "0   Alice   25  Female\n",
      "1     Bob   30    Male\n",
      "2  Claire   27  Female\n"
     ]
    }
   ],
   "source": [
    "data = {\"Name\": [\"Alice\", \"Bob\", \"Claire\"],\"Age\": [25, 30, 27],\"Gender\": [\"Female\", \"Male\", \"Female\"]}\n",
    "df = pd.DataFrame(data)\n",
    "print(df)\n"
   ]
  },
  {
   "cell_type": "markdown",
   "id": "26ee63c2-d02b-4883-8f7c-caab36c81b8c",
   "metadata": {},
   "source": [
    "# Q4. What is ‘DataFrame’ in pandas and how is it different from pandas.series? Explain with an example.\n"
   ]
  },
  {
   "cell_type": "markdown",
   "id": "7d3340fb-52e7-4382-a7ea-5f6632ead798",
   "metadata": {},
   "source": [
    "## DataFrame in Pandas is a 2-dimensional structure, similar to a table in a database. It consists of rows and columns.\n",
    "## Series in Pandas is a 1-dimensional array, like a single column of a DataFrame."
   ]
  },
  {
   "cell_type": "code",
   "execution_count": 5,
   "id": "5ed0b5a7-dd3e-4713-8120-717fcb8376a2",
   "metadata": {},
   "outputs": [
    {
     "name": "stdout",
     "output_type": "stream",
     "text": [
      "Series:\n",
      " 0    10\n",
      "1    20\n",
      "2    30\n",
      "3    40\n",
      "dtype: int64\n",
      "\n",
      "DataFrame:\n",
      "     A   B\n",
      "0  10  50\n",
      "1  20  60\n",
      "2  30  70\n",
      "3  40  80\n"
     ]
    }
   ],
   "source": [
    "series = pd.Series([10, 20, 30, 40])\n",
    "print(\"Series:\\n\", series)\n",
    "df = pd.DataFrame({\"A\": [10, 20, 30, 40],\"B\": [50, 60, 70, 80]})\n",
    "print(\"\\nDataFrame:\\n\", df)"
   ]
  },
  {
   "cell_type": "markdown",
   "id": "46ed35ca-2e28-43c2-9a3a-9227a5413fef",
   "metadata": {},
   "source": [
    "# Q5. What are some common functions you can use to manipulate data in a Pandas DataFrame? Can you give an example of when you might use one of these functions?\n"
   ]
  },
  {
   "cell_type": "markdown",
   "id": "752fb9f0-941c-421a-891b-d168d1b10cf4",
   "metadata": {},
   "source": [
    "common functions to manipulate data in a dataframe are:\n",
    "df.head()   \n",
    "df.tail()   \n",
    "df.columns    \n",
    "df.dtypes   "
   ]
  },
  {
   "cell_type": "code",
   "execution_count": 6,
   "id": "ed470f62-a152-4ccf-9ff0-308b43c101d7",
   "metadata": {},
   "outputs": [
    {
     "name": "stdout",
     "output_type": "stream",
     "text": [
      "    A   B\n",
      "0  10  50\n",
      "1  20  60\n",
      "2  30  70\n",
      "3  40  80\n"
     ]
    }
   ],
   "source": [
    "#df.head() for knowing the first five rows (by default)\n",
    "df = pd.DataFrame({\"A\": [10, 20, 30, 40],\"B\": [50, 60, 70, 80]})\n",
    "print(df.head())"
   ]
  },
  {
   "cell_type": "markdown",
   "id": "9e27f088-84e9-4aa0-8960-cab7a4e091cb",
   "metadata": {},
   "source": [
    "# Q6. Which of the following is mutable in nature Series, DataFrame, Panel?\n"
   ]
  },
  {
   "cell_type": "markdown",
   "id": "7cdc20f1-19ae-4787-a570-bc1bbc4d2403",
   "metadata": {},
   "source": [
    "Series - Mutable (values can be changed)      \n",
    "DataFrame - Mutable (rows/columns can be modified)    \n",
    "Panel - Immutable"
   ]
  },
  {
   "cell_type": "markdown",
   "id": "6349d680-ac65-4cef-a01a-ba6b2ca37f72",
   "metadata": {},
   "source": [
    "# Q7. Create a DataFrame using multiple Series. Explain with an example."
   ]
  },
  {
   "cell_type": "code",
   "execution_count": 7,
   "id": "862eb1ee-3218-4689-85aa-8259cbc2195c",
   "metadata": {},
   "outputs": [
    {
     "name": "stdout",
     "output_type": "stream",
     "text": [
      "      Name  Age  Gender\n",
      "0    Alice   25  Female\n",
      "1      Bob   30    Male\n",
      "2  Charlie   22    Male\n"
     ]
    }
   ],
   "source": [
    "names = pd.Series([\"Alice\", \"Bob\", \"Charlie\"])\n",
    "ages = pd.Series([25, 30, 22])\n",
    "genders = pd.Series([\"Female\", \"Male\", \"Male\"])\n",
    "df_from_series = pd.DataFrame({\"Name\": names,\"Age\": ages,\"Gender\": genders})\n",
    "print(df_from_series)"
   ]
  }
 ],
 "metadata": {
  "kernelspec": {
   "display_name": "Python 3 (ipykernel)",
   "language": "python",
   "name": "python3"
  },
  "language_info": {
   "codemirror_mode": {
    "name": "ipython",
    "version": 3
   },
   "file_extension": ".py",
   "mimetype": "text/x-python",
   "name": "python",
   "nbconvert_exporter": "python",
   "pygments_lexer": "ipython3",
   "version": "3.12.1"
  }
 },
 "nbformat": 4,
 "nbformat_minor": 5
}

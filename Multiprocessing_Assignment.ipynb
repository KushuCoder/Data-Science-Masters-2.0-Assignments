{
  "cells": [
    {
      "cell_type": "markdown",
      "id": "b51fafcc-a109-4841-bb34-5673290b916d",
      "metadata": {
        "id": "b51fafcc-a109-4841-bb34-5673290b916d"
      },
      "source": [
        "# Q1. What is multiprocessing in python? Why is it useful?\n"
      ]
    },
    {
      "cell_type": "markdown",
      "id": "c40c3330-b994-46f7-8000-0ec0efb3c732",
      "metadata": {
        "id": "c40c3330-b994-46f7-8000-0ec0efb3c732"
      },
      "source": [
        "Multiprocessing is a technique that allows multiple processes to run independently, utilizing multiple CPU cores, it helps execute tasks in parallel by creating separate processes.      \n",
        "use:     \n",
        "Improves performance for CPU-bound tasks such as mathematical computations.     \n",
        "Provides process isolation, preventing one process from affecting another.    \n",
        "Increases efficiency by utilizing multiple CPU cores."
      ]
    },
    {
      "cell_type": "markdown",
      "id": "770b14ca-bf77-4a85-87d4-f74a49bb7b55",
      "metadata": {
        "id": "770b14ca-bf77-4a85-87d4-f74a49bb7b55"
      },
      "source": [
        "# Q2. What are the differences between multiprocessing and multithreading?\n"
      ]
    },
    {
      "cell_type": "markdown",
      "id": "0b218a71-553c-489c-a71c-3e2ff537deba",
      "metadata": {
        "id": "0b218a71-553c-489c-a71c-3e2ff537deba"
      },
      "source": [
        "'Multiprocessing' runs multiple independent processes, whereas 'multithreading' runs multiple threads within a single process.     \n",
        "'Multiprocessing' is best suited for CPU-bound tasks like mathematical computations, whereas 'multithreading' is ideal for I/O-bound tasks like file handling.     \n",
        "'Multiprocessing' consumes more memory as each process has its own separate memory space, while 'multithreading' uses less memory since threads share the same memory.     \n",
        "'Multiprocessing' is more stable because if one process crashes, it does not affect others, whereas in 'multithreading', a crash in one thread may impact the entire program.     "
      ]
    },
    {
      "cell_type": "markdown",
      "id": "b74a15bd-e4fe-49c4-afaf-a4ed1cb851e6",
      "metadata": {
        "id": "b74a15bd-e4fe-49c4-afaf-a4ed1cb851e6"
      },
      "source": [
        "# Q3. Write a python code to create a process using the multiprocessing module.\n"
      ]
    },
    {
      "cell_type": "code",
      "execution_count": 3,
      "id": "7aa75c7c-ca1c-418b-8aaa-b8bd88264ac9",
      "metadata": {
        "colab": {
          "base_uri": "https://localhost:8080/"
        },
        "id": "7aa75c7c-ca1c-418b-8aaa-b8bd88264ac9",
        "outputId": "55c48b0e-00a2-43e2-9b0e-f8b37a33e2df"
      },
      "outputs": [
        {
          "output_type": "stream",
          "name": "stdout",
          "text": [
            "Hello from process!\n"
          ]
        }
      ],
      "source": [
        "import multiprocessing\n",
        "def print_hello():\n",
        "    print(\"Hello from process!\")\n",
        "if __name__ == \"__main__\":\n",
        "    p = multiprocessing.Process(target=print_hello)\n",
        "    p.start()\n",
        "    p.join()"
      ]
    },
    {
      "cell_type": "markdown",
      "id": "607fbd1c-6744-4a3b-a331-701210e3434d",
      "metadata": {
        "id": "607fbd1c-6744-4a3b-a331-701210e3434d"
      },
      "source": [
        "# Q4. What is a multiprocessing pool in python? Why is it used?\n"
      ]
    },
    {
      "cell_type": "markdown",
      "id": "f6226eee-9173-469f-83d5-b133f78a3811",
      "metadata": {
        "id": "f6226eee-9173-469f-83d5-b133f78a3811"
      },
      "source": [
        "A multiprocessing pool is a collection of worker processes that execute tasks in parallel.\n",
        "## uses:\n",
        "Distributes tasks among worker processes efficiently.    \n",
        "Executes functions on multiple inputs simultaneously.     \n",
        "Provides functions like map(), apply().    \n"
      ]
    },
    {
      "cell_type": "markdown",
      "id": "7e47fc44-6832-426e-8eda-c2a4ef0f48e4",
      "metadata": {
        "id": "7e47fc44-6832-426e-8eda-c2a4ef0f48e4"
      },
      "source": [
        "# Q5. How can we create a pool of worker processes in python using the multiprocessing module?\n"
      ]
    },
    {
      "cell_type": "markdown",
      "id": "aa57ee1a-6882-4f97-ad81-5d3b8ad58064",
      "metadata": {
        "id": "aa57ee1a-6882-4f97-ad81-5d3b8ad58064"
      },
      "source": [
        "## steps\n",
        "Import the multiprocessing module.    \n",
        "Define a function that will be executed by the processes.    \n",
        "use multiprocessing.process function to call that particular function.     \n",
        "start the process."
      ]
    },
    {
      "cell_type": "markdown",
      "id": "9a0b3671-d218-4d63-b1c8-bc9c376f00ab",
      "metadata": {
        "id": "9a0b3671-d218-4d63-b1c8-bc9c376f00ab"
      },
      "source": [
        "# Q6. Write a python program to create 4 processes, each process should print a different number using the multiprocessing module in python."
      ]
    },
    {
      "cell_type": "code",
      "execution_count": 2,
      "id": "1c58ad75-373d-449f-9e4f-a9d6d27ac32a",
      "metadata": {
        "colab": {
          "base_uri": "https://localhost:8080/"
        },
        "id": "1c58ad75-373d-449f-9e4f-a9d6d27ac32a",
        "outputId": "c8759903-fd0a-4a07-828b-4a1cdeb79f0f"
      },
      "outputs": [
        {
          "output_type": "stream",
          "name": "stdout",
          "text": [
            "[1, 2, 3, 4]\n"
          ]
        }
      ],
      "source": [
        "import multiprocessing\n",
        "\n",
        "def square(index , value ):\n",
        "    value[index] = value[index]\n",
        "\n",
        "if __name__ == '__main__':\n",
        "    arr = multiprocessing.Array('i', [1,2,3,4])\n",
        "    process = []\n",
        "    for i in range(4) :\n",
        "        m = multiprocessing.Process(target=square , args = (i ,arr ))\n",
        "        process.append(m)\n",
        "        m.start()\n",
        "    for m in process:\n",
        "        m.join()\n",
        "    print(list(arr))\n"
      ]
    },
    {
      "cell_type": "code",
      "execution_count": null,
      "id": "cb628b82-afac-4a01-92b7-484ceb7bd59c",
      "metadata": {
        "id": "cb628b82-afac-4a01-92b7-484ceb7bd59c"
      },
      "outputs": [],
      "source": []
    }
  ],
  "metadata": {
    "kernelspec": {
      "display_name": "Python 3 (ipykernel)",
      "language": "python",
      "name": "python3"
    },
    "language_info": {
      "codemirror_mode": {
        "name": "ipython",
        "version": 3
      },
      "file_extension": ".py",
      "mimetype": "text/x-python",
      "name": "python",
      "nbconvert_exporter": "python",
      "pygments_lexer": "ipython3",
      "version": "3.12.1"
    },
    "colab": {
      "provenance": []
    }
  },
  "nbformat": 4,
  "nbformat_minor": 5
}
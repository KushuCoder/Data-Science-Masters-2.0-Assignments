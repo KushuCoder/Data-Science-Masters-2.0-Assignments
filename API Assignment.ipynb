{
 "cells": [
  {
   "cell_type": "markdown",
   "id": "de719410-6b1b-4652-a8c6-763d82a3a342",
   "metadata": {},
   "source": [
    "# Q1. What is an API? Give an example, where an API is used in real life.\n"
   ]
  },
  {
   "cell_type": "markdown",
   "id": "4e79246a-fa20-43f3-b821-11f3427c2fc6",
   "metadata": {},
   "source": [
    "An API (Application Programming Interface) is a set of rules and protocols that allow different software applications to communicate with each other.     \n",
    "APIs define how requests and responses should be formatted, enabling seamless interaction between systems.     \n",
    "## Real-Life Example of API Usage     \n",
    "Online Payments: Payment gateways like Stripe provide APIs that allow e-commerce websites to process secure transactions without handling sensitive financial details directly.\n"
   ]
  },
  {
   "cell_type": "markdown",
   "id": "afc229e8-efb0-4375-bf04-2d95543e919f",
   "metadata": {},
   "source": [
    "# Q2. Give advantages and disadvantages of using API.\n"
   ]
  },
  {
   "cell_type": "markdown",
   "id": "aab32c2c-93f0-4c72-a40e-73af5690609c",
   "metadata": {},
   "source": [
    "## Advantages:\n",
    "Reduces manual effort by enabling seamless communication between systems.     \n",
    "Provides controlled access to data and functionality through authentication.     \n",
    "APIs can be reused across different applications, reducing development time.     \n",
    "## Disadvantages:\n",
    "APIs can be difficult to design and maintain.      \n",
    "Improper API implementation can lead to vulnerabilities and data breaches.     \n",
    "Identifying and resolving issues in API calls can be challenging."
   ]
  },
  {
   "cell_type": "markdown",
   "id": "23c8d6a3-8a7e-4bd8-91ea-f32d58cb08ee",
   "metadata": {},
   "source": [
    "# Q3. What is a Web API? Differentiate between API and Web API.\n"
   ]
  },
  {
   "cell_type": "markdown",
   "id": "9325b120-a387-416d-8722-6b05957b4e9e",
   "metadata": {},
   "source": [
    "A Web API is an API that allows communication between systems over the internet using web protocols like HTTP.\n",
    "## Differences Between API and Web API:\n",
    "APIs can be used for communication within any system , while Web APIs are specifically designed for web-based interactions.     \n",
    "APIs may use various protocols (HTTP, COM), whereas Web APIs primarily use HTTP/HTTPS.     \n",
    "A database API (like MySQL API) works within a local environment, whereas a Web API (like Google Maps API) works over the internet."
   ]
  },
  {
   "cell_type": "markdown",
   "id": "b4584187-e45a-4278-ba74-1d89fb07027c",
   "metadata": {},
   "source": [
    "# Q4. Explain REST and SOAP Architecture. Mention shortcomings of SOAP.\n"
   ]
  },
  {
   "cell_type": "markdown",
   "id": "7f75c172-66c4-4991-9785-1cd6316de348",
   "metadata": {},
   "source": [
    "## REST (Representational State Transfer) Architecture\n",
    "REST is a lightweight process for building web services.     \n",
    "It uses HTTP methods (GET, POST, PUT, DELETE) for communication.    \n",
    "Data is usually exchanged in JSON or XML format.     \n",
    "## SOAP (Simple Object Access Protocol) Architecture \n",
    "SOAP is a protocol-based web service communication model.    \n",
    "It uses XML format for requests and responses.    \n",
    "It follows strict standards for security and error handling.    \n",
    "## Shortcomings of SOAP:\n",
    "Uses complex XML messages, making it slower than REST.    \n",
    "Due to XML’s large size, SOAP consumes more bandwidth.    \n",
    "Unlike REST, SOAP is not suitable for lightweight web and mobile applications."
   ]
  },
  {
   "cell_type": "markdown",
   "id": "9194ead6-5753-425b-a6b3-c8f2eff6847b",
   "metadata": {},
   "source": [
    "# Q5. Differentiate between REST and SOAP."
   ]
  },
  {
   "cell_type": "markdown",
   "id": "d857e944-d139-4bfb-9753-22f42249e2d8",
   "metadata": {},
   "source": [
    "REST supports multiple formats (JSON, XML, HTML, text), whereas SOAP strictly uses XML.    \n",
    "REST is faster due to its lightweight nature, whereas SOAP is slower because of XML parsing.    \n",
    "SOAP has built-in security (WS-Security), whereas REST relies on HTTPS and OAuth for security.     \n",
    "REST is more flexible and scalable, making it suitable for modern web applications, whereas SOAP is better for enterprise applications requiring strict security."
   ]
  },
  {
   "cell_type": "code",
   "execution_count": null,
   "id": "0ebb4f04-5de9-44d8-80c4-f35da65e5016",
   "metadata": {},
   "outputs": [],
   "source": []
  }
 ],
 "metadata": {
  "kernelspec": {
   "display_name": "Python 3 (ipykernel)",
   "language": "python",
   "name": "python3"
  },
  "language_info": {
   "codemirror_mode": {
    "name": "ipython",
    "version": 3
   },
   "file_extension": ".py",
   "mimetype": "text/x-python",
   "name": "python",
   "nbconvert_exporter": "python",
   "pygments_lexer": "ipython3",
   "version": "3.12.1"
  }
 },
 "nbformat": 4,
 "nbformat_minor": 5
}

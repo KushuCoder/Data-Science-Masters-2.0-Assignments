{
 "cells": [
  {
   "cell_type": "markdown",
   "id": "7744e7d4-5d9b-47b7-93d2-dfe44629beff",
   "metadata": {},
   "source": [
    "# Q1. List any five functions of the pandas library with execution.\n"
   ]
  },
  {
   "cell_type": "code",
   "execution_count": 1,
   "id": "2550eac9-af7a-450b-a2d0-691166957c56",
   "metadata": {},
   "outputs": [
    {
     "name": "stdout",
     "output_type": "stream",
     "text": [
      "   A  B\n",
      "0  1  5\n",
      "1  2  6\n",
      "2  3  7\n",
      "3  4  8\n",
      "              A         B\n",
      "count  4.000000  4.000000\n",
      "mean   2.500000  6.500000\n",
      "std    1.290994  1.290994\n",
      "min    1.000000  5.000000\n",
      "25%    1.750000  5.750000\n",
      "50%    2.500000  6.500000\n",
      "75%    3.250000  7.250000\n",
      "max    4.000000  8.000000\n",
      "<class 'pandas.core.frame.DataFrame'>\n",
      "RangeIndex: 4 entries, 0 to 3\n",
      "Data columns (total 2 columns):\n",
      " #   Column  Non-Null Count  Dtype\n",
      "---  ------  --------------  -----\n",
      " 0   A       4 non-null      int64\n",
      " 1   B       4 non-null      int64\n",
      "dtypes: int64(2)\n",
      "memory usage: 196.0 bytes\n",
      "None\n",
      "       A      B\n",
      "0  False  False\n",
      "1  False  False\n",
      "2  False  False\n",
      "3  False  False\n",
      "   A  B     C\n",
      "1  2  6  10.0\n",
      "2  3  7  11.0\n",
      "3  4  8  12.0\n"
     ]
    }
   ],
   "source": [
    "import pandas as pd\n",
    "import numpy as np\n",
    "data = {'A': [1, 2, 3, 4], 'B': [5, 6, 7, 8]}\n",
    "df = pd.DataFrame(data)\n",
    "# 1. head(): Displays the first few rows\n",
    "print(df.head())\n",
    "\n",
    "# 2. describe(): Generates summary statistics\n",
    "print(df.describe())\n",
    "\n",
    "# 3. info(): Provides information about DataFrame structure\n",
    "print(df.info())\n",
    "\n",
    "# 4. isnull(): Checks for missing values\n",
    "print(df.isnull())\n",
    "\n",
    "# 5. dropna(): Removes rows with missing values\n",
    "df['C'] = [np.nan, 10, 11, 12]\n",
    "print(df.dropna())\n"
   ]
  },
  {
   "cell_type": "markdown",
   "id": "0a008f70-3765-4d14-92f2-95b08f964b5d",
   "metadata": {},
   "source": [
    "# Q2. Given a Pandas DataFrame df with columns 'A', 'B', and 'C', write a Python function to re-index the DataFrame with a new index that starts from 1 and increments by 2 for each row.\n"
   ]
  },
  {
   "cell_type": "code",
   "execution_count": 2,
   "id": "bddf5a55-466d-4522-bf9b-5f31966151c1",
   "metadata": {},
   "outputs": [],
   "source": [
    "def reindex_dataframe(df):\n",
    "    df.index = range(1, len(df) * 2, 2)\n",
    "    return df\n"
   ]
  },
  {
   "cell_type": "markdown",
   "id": "04315fc5-8e07-4996-808a-0c50dd0e5509",
   "metadata": {},
   "source": [
    "# Q3. You have a Pandas DataFrame df with a column named 'Values'. Write a Python function that iterates over the DataFrame and calculates the sum of the first three values in the 'Values' column. The function should print the sum to the console.\n",
    "For example, if the 'Values' column of df contains the values [10, 20, 30, 40, 50], your function should calculate and print the sum of the first three values, which is 60.\n",
    "\n"
   ]
  },
  {
   "cell_type": "code",
   "execution_count": 3,
   "id": "02154c99-6d68-4141-96f4-d58f8f368c0b",
   "metadata": {},
   "outputs": [],
   "source": [
    "def sum_first_three(df):\n",
    "    result = df['Values'].head(3).sum()\n",
    "    print(\"Sum of first three values:\", result)\n"
   ]
  },
  {
   "cell_type": "markdown",
   "id": "6c6e867b-1d33-41f4-9d2d-0ae1061603ec",
   "metadata": {},
   "source": [
    "# Q4. Given a Pandas DataFrame df with a column 'Text', write a Python function to create a new column 'Word_Count' that contains the number of words in each row of the 'Text' column.\n"
   ]
  },
  {
   "cell_type": "code",
   "execution_count": 4,
   "id": "7aae5ea1-a7e0-42e6-bbf4-76900b07d19e",
   "metadata": {},
   "outputs": [],
   "source": [
    "def add_word_count(df):\n",
    "    df['Word_Count'] = df['Text'].apply(lambda x: len(str(x).split()))\n",
    "    return df\n"
   ]
  },
  {
   "cell_type": "markdown",
   "id": "78f27540-43e7-49f4-ba51-e3e6a42a3b86",
   "metadata": {},
   "source": [
    "# Q5. How are DataFrame.size() and DataFrame.shape() different?\n"
   ]
  },
  {
   "cell_type": "markdown",
   "id": "2cc99d9c-08bc-4e2c-80a5-d9510f082f76",
   "metadata": {},
   "source": [
    "DataFrame.size: Returns the total number of elements in the DataFrame (rows × columns).     \n",
    "DataFrame.shape: Returns a tuple (number of rows, number of columns).\n",
    "\n"
   ]
  },
  {
   "cell_type": "markdown",
   "id": "8ee7119e-4125-4437-b8b3-f10400ab47b1",
   "metadata": {},
   "source": [
    "# Q6. Which function of pandas do we use to read an excel file?\n"
   ]
  },
  {
   "cell_type": "markdown",
   "id": "a2b93f56-034a-49dd-8252-9248693cf3b1",
   "metadata": {},
   "source": [
    "## df = pd.read_excel(\"filename.xlsx\")\n"
   ]
  },
  {
   "cell_type": "markdown",
   "id": "4c288f46-daf2-462d-9c2b-76215840040e",
   "metadata": {},
   "source": [
    "# Q7. You have a Pandas DataFrame df that contains a column named 'Email' that contains email addresses in the format 'username@domain.com'. Write a Python function that creates a new column 'Username' in df that contains only the username part of each email address.\n",
    "# The username is the part of the email address that appears before the '@' symbol. For example, if the email address is 'john.doe@example.com', the 'Username' column should contain 'john.doe'. Your function should extract the username from each email address and store it in the new 'Username' column.\n",
    "\n"
   ]
  },
  {
   "cell_type": "code",
   "execution_count": 6,
   "id": "f18b48bc-6983-4ce0-b1fe-06a12af5ac2e",
   "metadata": {},
   "outputs": [],
   "source": [
    "def extract_username(df):\n",
    "    df['Username'] = df['Email'].apply(lambda x: x.split('@')[0])\n",
    "    return df\n"
   ]
  },
  {
   "cell_type": "markdown",
   "id": "adec5046-710e-44d6-9c43-8c0e13a13732",
   "metadata": {},
   "source": [
    "# Q8. You have a Pandas DataFrame df with columns 'A', 'B', and 'C'. Write a Python function that selects all rows where the value in column 'A' is greater than 5 and the value in column 'B' is less than 10. The function should return a new DataFrame that contains only the selected rows.\n",
    "## For example, if df contains the following values:\n",
    "A B C     \n",
    "0 3 5 1     \n",
    "1 8 2 7     \n",
    "2 6 9 4     \n",
    "3 2 3 5    \n",
    "4 9 1 2    \n",
    "\n",
    "Your function should select the following rows: A B C    \n",
    "1 8 2 7    \n",
    "4 9 1 2    \n",
    "The function should return a new DataFrame that contains only the selected rows.\n",
    "\n"
   ]
  },
  {
   "cell_type": "code",
   "execution_count": 7,
   "id": "fd3c3885-dbb7-4d08-990d-8ce54a222369",
   "metadata": {},
   "outputs": [],
   "source": [
    "def filter_dataframe(df):\n",
    "    return df[(df['A'] > 5) & (df['B'] < 10)]\n"
   ]
  },
  {
   "cell_type": "markdown",
   "id": "6bb7d751-9598-4191-b549-9ac0fb58af1e",
   "metadata": {},
   "source": [
    "# Q9. Given a Pandas DataFrame df with a column 'Values', write a Python function to calculate the mean, median, and standard deviation of the values in the 'Values' column.\n"
   ]
  },
  {
   "cell_type": "code",
   "execution_count": 8,
   "id": "cac16124-02b6-42b0-a219-d2072d1ba00b",
   "metadata": {},
   "outputs": [],
   "source": [
    "def calculate_statistics(df):\n",
    "    mean_val = df['Values'].mean()\n",
    "    median_val = df['Values'].median()\n",
    "    std_val = df['Values'].std()\n",
    "    return {\"Mean\": mean_val, \"Median\": median_val, \"Std Dev\": std_val}\n"
   ]
  },
  {
   "cell_type": "markdown",
   "id": "18e2a9a4-7e5e-4a34-9f9d-7976694118b4",
   "metadata": {},
   "source": [
    "# Q10. Given a Pandas DataFrame df with a column 'Sales' and a column 'Date', write a Python function to create a new column 'MovingAverage' that contains the moving average of the sales for the past 7 days for each row in the DataFrame. The moving average should be calculated using a window of size 7 and should include the current day.\n"
   ]
  },
  {
   "cell_type": "code",
   "execution_count": 9,
   "id": "537eff9b-bd47-4b86-a5b6-5acc506d6b59",
   "metadata": {},
   "outputs": [],
   "source": [
    "def add_moving_average(df):\n",
    "    df['MovingAverage'] = df['Sales'].rolling(window=7, min_periods=1).mean()\n",
    "    return df\n"
   ]
  },
  {
   "cell_type": "markdown",
   "id": "4a134bc4-939b-42b1-939f-3a42ca0caeec",
   "metadata": {},
   "source": [
    "# Q11. You have a Pandas DataFrame df with a column 'Date'. Write a Python function that creates a new column 'Weekday' in the DataFrame. The 'Weekday' column should contain the weekday name (e.g. Monday, Tuesday) corresponding to each date in the 'Date' column.\n",
    "## For example, if df contains the following values:\n",
    "Date    \n",
    "0 2023-01-01    \n",
    "1 2023-01-02    \n",
    "2 2023-01-03    \n",
    "3 2023-01-04    \n",
    "4 2023-01-05     \n",
    "Your function should create the following DataFrame:    \n",
    "\n",
    "Date Weekday    \n",
    "0 2023-01-01 Sunday    \n",
    "1 2023-01-02 Monday    \n",
    "2 2023-01-03 Tuesday    \n",
    "3 2023-01-04 Wednesday    \n",
    "4 2023-01-05 Thursday    \n",
    "The function should return the modified DataFrame."
   ]
  },
  {
   "cell_type": "code",
   "execution_count": 10,
   "id": "fa5f24c2-53c2-4258-9895-6ea829b39faa",
   "metadata": {},
   "outputs": [],
   "source": [
    "def add_weekday_column(df):\n",
    "    df['Weekday'] = pd.to_datetime(df['Date']).dt.day_name()\n",
    "    return df\n"
   ]
  },
  {
   "cell_type": "markdown",
   "id": "676af7c6-01ac-4e42-84bd-b11e07624907",
   "metadata": {},
   "source": [
    "# Q12. Given a Pandas DataFrame df with a column 'Date' that contains timestamps, write a Python function to select all rows where the date is between '2023-01-01' and '2023-01-31'.\n"
   ]
  },
  {
   "cell_type": "code",
   "execution_count": 11,
   "id": "62127b81-ce88-48fe-b434-a7b6d0b8c80a",
   "metadata": {},
   "outputs": [],
   "source": [
    "def filter_by_date(df):\n",
    "    df['Date'] = pd.to_datetime(df['Date'])\n",
    "    return df[(df['Date'] >= '2023-01-01') & (df['Date'] <= '2023-01-31')]\n"
   ]
  },
  {
   "cell_type": "markdown",
   "id": "b8bb6141-a6b2-48df-a8a0-5b7e6c075dbb",
   "metadata": {},
   "source": [
    "# Q13. To use the basic functions of pandas, what is the first and foremost necessary library that needs to be imported?"
   ]
  },
  {
   "cell_type": "code",
   "execution_count": 12,
   "id": "00b348ff-6ec7-45dc-9c28-c4a5c49e2ad6",
   "metadata": {},
   "outputs": [],
   "source": [
    "import pandas as pd\n"
   ]
  }
 ],
 "metadata": {
  "kernelspec": {
   "display_name": "Python 3 (ipykernel)",
   "language": "python",
   "name": "python3"
  },
  "language_info": {
   "codemirror_mode": {
    "name": "ipython",
    "version": 3
   },
   "file_extension": ".py",
   "mimetype": "text/x-python",
   "name": "python",
   "nbconvert_exporter": "python",
   "pygments_lexer": "ipython3",
   "version": "3.12.1"
  }
 },
 "nbformat": 4,
 "nbformat_minor": 5
}

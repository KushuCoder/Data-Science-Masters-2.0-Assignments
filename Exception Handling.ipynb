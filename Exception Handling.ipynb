{
 "cells": [
  {
   "cell_type": "markdown",
   "id": "2e255d4f-d092-4a7e-9bbf-9b18740c3b4a",
   "metadata": {},
   "source": [
    "# Q1. What is an Exception in python? Write the difference between Exceptions and Syntax errors.\n"
   ]
  },
  {
   "cell_type": "markdown",
   "id": "6ba2d4ec-1ce5-49ee-ab69-01d1ad39baff",
   "metadata": {},
   "source": [
    "## Exception\n",
    "An exception in Python is an error that occurs during the execution of a program, disrupting its normal flow.\n",
    "Exceptions can be caused by various issues, such as division by zero, accessing an undefined variable, or reading a file that does not exist.\n",
    "## Difference between exception and syntax errors\n",
    "Exceptions occur during the execution of a program when an invalid operation is performed, like dividing by zero,Whereas syntax errors happen when there is some sytax issue in the code.\n",
    "Exceptions occur at runtime, Whereas syntax errors occur before execution during the code compilation time."
   ]
  },
  {
   "cell_type": "markdown",
   "id": "f68d0db1-879c-4e5e-91f5-501bec746eeb",
   "metadata": {},
   "source": [
    "# Q2. What happens when an exception is not handled? Explain with an example.\n"
   ]
  },
  {
   "cell_type": "code",
   "execution_count": 1,
   "id": "32e4cf54-1a83-496d-8737-656275552645",
   "metadata": {},
   "outputs": [
    {
     "ename": "ZeroDivisionError",
     "evalue": "division by zero",
     "output_type": "error",
     "traceback": [
      "\u001b[1;31m---------------------------------------------------------------------------\u001b[0m",
      "\u001b[1;31mZeroDivisionError\u001b[0m                         Traceback (most recent call last)",
      "Cell \u001b[1;32mIn[1], line 4\u001b[0m\n\u001b[0;32m      2\u001b[0m \u001b[38;5;28;01mdef\u001b[39;00m \u001b[38;5;21mdivide\u001b[39m(a, b):\n\u001b[0;32m      3\u001b[0m     \u001b[38;5;28;01mreturn\u001b[39;00m a \u001b[38;5;241m/\u001b[39m b\n\u001b[1;32m----> 4\u001b[0m \u001b[38;5;28mprint\u001b[39m(\u001b[43mdivide\u001b[49m\u001b[43m(\u001b[49m\u001b[38;5;241;43m5\u001b[39;49m\u001b[43m,\u001b[49m\u001b[43m \u001b[49m\u001b[38;5;241;43m0\u001b[39;49m\u001b[43m)\u001b[49m)\n",
      "Cell \u001b[1;32mIn[1], line 3\u001b[0m, in \u001b[0;36mdivide\u001b[1;34m(a, b)\u001b[0m\n\u001b[0;32m      2\u001b[0m \u001b[38;5;28;01mdef\u001b[39;00m \u001b[38;5;21mdivide\u001b[39m(a, b):\n\u001b[1;32m----> 3\u001b[0m     \u001b[38;5;28;01mreturn\u001b[39;00m \u001b[43ma\u001b[49m\u001b[43m \u001b[49m\u001b[38;5;241;43m/\u001b[39;49m\u001b[43m \u001b[49m\u001b[43mb\u001b[49m\n",
      "\u001b[1;31mZeroDivisionError\u001b[0m: division by zero"
     ]
    }
   ],
   "source": [
    "#If an exception is not handled, Python will terminate the program and print an error message along with the line at where exception occured\n",
    "def divide(a, b):\n",
    "    return a / b\n",
    "print(divide(5, 0))"
   ]
  },
  {
   "cell_type": "markdown",
   "id": "9480dc72-3e7b-4c45-b0dd-33bac728ad35",
   "metadata": {},
   "source": [
    "# Q3. Which Python statements are used to catch and handle exceptions? Explain with an example.\n"
   ]
  },
  {
   "cell_type": "code",
   "execution_count": 2,
   "id": "6dfeb15e-654a-49fa-8591-dc189f66f88e",
   "metadata": {},
   "outputs": [
    {
     "name": "stdin",
     "output_type": "stream",
     "text": [
      "Enter a number:  0\n"
     ]
    },
    {
     "name": "stdout",
     "output_type": "stream",
     "text": [
      "Cannot divide by zero!\n"
     ]
    }
   ],
   "source": [
    "#The try and except blocks are used to handle exceptions in Python.\n",
    "try:\n",
    "    num = int(input(\"Enter a number: \"))\n",
    "    print(10 / num)\n",
    "except ZeroDivisionError:\n",
    "    print(\"Cannot divide by zero!\")"
   ]
  },
  {
   "cell_type": "markdown",
   "id": "b237ad50-11c8-4d11-ab29-f4fd7374f0f8",
   "metadata": {},
   "source": [
    "# Q4. Explain with an example:#\n",
    "# a. try and else\n",
    "# b. finally\n",
    "# c. raise\n"
   ]
  },
  {
   "cell_type": "code",
   "execution_count": 3,
   "id": "20432b71-d83b-4df0-bf79-0fca8c10888a",
   "metadata": {},
   "outputs": [
    {
     "name": "stdin",
     "output_type": "stream",
     "text": [
      "Enter a number:  0\n"
     ]
    },
    {
     "name": "stdout",
     "output_type": "stream",
     "text": [
      "Cannot divide by zero!\n",
      "File not found!\n",
      "Closing file (if opened).\n",
      "Error: Age must be 18 or above.\n"
     ]
    }
   ],
   "source": [
    "# a.try and else\n",
    "try:\n",
    "    num = int(input(\"Enter a number: \"))\n",
    "    result = 10 / num\n",
    "except ZeroDivisionError:\n",
    "    print(\"Cannot divide by zero!\")\n",
    "else:\n",
    "    print(f\"Division successful: {result}\")\n",
    "\n",
    "# b.finally\n",
    "try:\n",
    "    file = open(\"test.txt\", \"r\")\n",
    "    content = file.read()\n",
    "except FileNotFoundError:\n",
    "    print(\"File not found!\")\n",
    "finally:\n",
    "    print(\"Closing file (if opened).\")\n",
    "\n",
    "# c.raise\n",
    "def check_age(age):\n",
    "    if age < 18:\n",
    "        raise ValueError(\"Age must be 18 or above.\")\n",
    "    print(\"Access granted.\")\n",
    "\n",
    "try:\n",
    "    check_age(16)\n",
    "except ValueError as e:\n",
    "    print(f\"Error: {e}\")\n"
   ]
  },
  {
   "cell_type": "markdown",
   "id": "47ba0340-905c-42fe-8a66-5fe62ba942d0",
   "metadata": {},
   "source": [
    "# Q5. What are Custom Exceptions in python? Why do we need Custom Exceptions? Explain with an example.\n"
   ]
  },
  {
   "cell_type": "markdown",
   "id": "4519d464-a3dc-4117-8559-d3998c3d22ff",
   "metadata": {},
   "source": [
    "Custom exceptions are user-defined exception classes where we can keep our own condition     \n",
    "need:    \n",
    "Makes error handling more readable.     \n",
    "Provides more control over error messages."
   ]
  },
  {
   "cell_type": "code",
   "execution_count": 5,
   "id": "f927ad65-765a-4132-9bcc-8ddc149294c5",
   "metadata": {},
   "outputs": [
    {
     "name": "stdout",
     "output_type": "stream",
     "text": [
      "Error: Age must be 18 or above\n"
     ]
    }
   ],
   "source": [
    "class InvalidAgeError(Exception):\n",
    "    def __init__(self, message=\"Age must be 18 or above\"):\n",
    "        self.message = message\n",
    "        super().__init__(self.message)\n",
    "\n",
    "def validate_age(age):\n",
    "    if age < 18:\n",
    "        raise InvalidAgeError()\n",
    "    print(\"Valid age.\")\n",
    "\n",
    "try:\n",
    "    validate_age(16)\n",
    "except InvalidAgeError as e:\n",
    "    print(f\"Error: {e}\")\n"
   ]
  },
  {
   "cell_type": "markdown",
   "id": "ca655322-3501-4042-b40c-c20d165cfb1a",
   "metadata": {},
   "source": [
    "# Q6. Create a custom exception class. Use this class to handle an exception."
   ]
  },
  {
   "cell_type": "code",
   "execution_count": 6,
   "id": "768d1804-ca0e-41e2-bbd6-0f631d0c4b78",
   "metadata": {},
   "outputs": [
    {
     "name": "stdout",
     "output_type": "stream",
     "text": [
      "Error: Number cannot be negative!\n"
     ]
    }
   ],
   "source": [
    "class NegativeNumberError(Exception):\n",
    "    def __init__(self, message=\"Number cannot be negative!\"):\n",
    "        self.message = message\n",
    "        super().__init__(self.message)\n",
    "\n",
    "def square_root(num):\n",
    "    if num < 0:\n",
    "        raise NegativeNumberError()\n",
    "    return num ** 0.5\n",
    "\n",
    "try:\n",
    "    print(square_root(-4))\n",
    "except NegativeNumberError as e:\n",
    "    print(f\"Error: {e}\")\n"
   ]
  }
 ],
 "metadata": {
  "kernelspec": {
   "display_name": "Python 3 (ipykernel)",
   "language": "python",
   "name": "python3"
  },
  "language_info": {
   "codemirror_mode": {
    "name": "ipython",
    "version": 3
   },
   "file_extension": ".py",
   "mimetype": "text/x-python",
   "name": "python",
   "nbconvert_exporter": "python",
   "pygments_lexer": "ipython3",
   "version": "3.12.1"
  }
 },
 "nbformat": 4,
 "nbformat_minor": 5
}

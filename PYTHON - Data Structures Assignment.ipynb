{
 "cells": [
  {
   "cell_type": "markdown",
   "id": "46107ee3-b790-4832-b758-ccc8654dbee7",
   "metadata": {},
   "source": [
    "# Q1. How do you comment code in Python? What are the different types of comments?"
   ]
  },
  {
   "cell_type": "markdown",
   "id": "6cd6a414-f2fb-4490-95a2-a935f93c0193",
   "metadata": {},
   "source": [
    "Types of Comments\n",
    "1. Single-line comments: Start with a `#` symbol.  \n",
    "2. Multi-line comments: Use triple quotes (`'''` or `\"\"\"`), typically used for documentation.\n"
   ]
  },
  {
   "cell_type": "code",
   "execution_count": 5,
   "id": "165b8da4-e029-490a-9e10-1972eb6610aa",
   "metadata": {},
   "outputs": [
    {
     "data": {
      "text/plain": [
       "'multi line comment1\\nmulti line comment2'"
      ]
     },
     "execution_count": 5,
     "metadata": {},
     "output_type": "execute_result"
    }
   ],
   "source": [
    "#Single Line comment\n",
    "\"\"\"multi line comment1\n",
    "multi line comment2\"\"\""
   ]
  },
  {
   "cell_type": "markdown",
   "id": "01881412-6ec7-430e-8fae-4b61d8ef0383",
   "metadata": {},
   "source": [
    "# Q2. What are variables in Python? How do you declare and assign values to variables?"
   ]
  },
  {
   "cell_type": "markdown",
   "id": "f28bcca4-48d7-464e-a629-e26aba387ab0",
   "metadata": {},
   "source": [
    "A variable is a container for storing data. It is created when a value is assigned to it.  \r\n",
    "Example:  \r\n",
    "x=10-->Integer  \r\n",
    "name=\"John\"-->String  \r\n",
    "float1=3.14-->Float  \r\n",
    "is_student = True-->Boolean  \r\n"
   ]
  },
  {
   "cell_type": "markdown",
   "id": "77d12a45-3e34-44ba-aeda-02ab9b911b9e",
   "metadata": {},
   "source": [
    "# Q3. How do you convert one data type to another in Python?"
   ]
  },
  {
   "cell_type": "markdown",
   "id": "b627edac-1c9e-4be4-8aa5-a5769e915481",
   "metadata": {},
   "source": [
    "Python provides built-in functions to convert data types:  \n",
    "int() → Converts to an integer  \n",
    "float() → Converts to a float  \n",
    "str() → Converts to a string  \n",
    "list() → Converts to a list  \n",
    "tuple() → Converts to a tuple  \n",
    "set() → Converts to a set  \n"
   ]
  },
  {
   "cell_type": "markdown",
   "id": "65a11a33-f8c9-412c-a501-6cb9a11803b0",
   "metadata": {},
   "source": [
    "# Q4. How do you write and execute a Python script from the command line?"
   ]
  },
  {
   "cell_type": "markdown",
   "id": "75acd1f2-6c5a-408f-9d43-2bd07c8d80b8",
   "metadata": {},
   "source": [
    "For execution->python file_name.py"
   ]
  },
  {
   "cell_type": "markdown",
   "id": "d8a83b48-8aae-4da6-9732-fb1db2f4d5c8",
   "metadata": {},
   "source": [
    "# Q5. Given a list my_list = [1,_2,_3,_4,_5], write the code to slice the list and obtain the sub-list [2, 3]."
   ]
  },
  {
   "cell_type": "code",
   "execution_count": 9,
   "id": "b0a5ccbe-d8b3-4aed-8b3e-4ae21ae44790",
   "metadata": {},
   "outputs": [
    {
     "name": "stdout",
     "output_type": "stream",
     "text": [
      "[2, 3]\n"
     ]
    }
   ],
   "source": [
    "my_list = [1, 2, 3, 4, 5]\n",
    "sub_list = my_list[1:3]\n",
    "print(sub_list)"
   ]
  },
  {
   "cell_type": "markdown",
   "id": "b1c8a876-b43d-4358-bed7-db5198d09d11",
   "metadata": {},
   "source": [
    "# Q6. What is a complex number in mathematics, and how is it represented in Python?"
   ]
  },
  {
   "cell_type": "code",
   "execution_count": 11,
   "id": "f9db272d-7efb-443f-a6bf-c814c3eb849e",
   "metadata": {},
   "outputs": [
    {
     "name": "stdout",
     "output_type": "stream",
     "text": [
      "3.0\n",
      "4.0\n"
     ]
    }
   ],
   "source": [
    "#A complex number consists of a real part and an imaginary part, in python it is represented as x+yj\n",
    "z = 3 + 4j\n",
    "print(z.real)\n",
    "print(z.imag)\n"
   ]
  },
  {
   "cell_type": "markdown",
   "id": "dc31fb1e-c65f-46e3-9b8a-8876e124f4c0",
   "metadata": {},
   "source": [
    "# Q7. What is the correct way to declare a variable named age and assign the value 25 to it?"
   ]
  },
  {
   "cell_type": "code",
   "execution_count": 13,
   "id": "415c884e-307b-424f-85fb-eebf125565d8",
   "metadata": {},
   "outputs": [],
   "source": [
    "age = 25"
   ]
  },
  {
   "cell_type": "markdown",
   "id": "73ce212d-522a-4914-bf87-4b878923d462",
   "metadata": {},
   "source": [
    "# Q8. Declare a variable named price and assign the value 9.99 to it. What data type does this variable belong to?"
   ]
  },
  {
   "cell_type": "code",
   "execution_count": 14,
   "id": "36cd10b3-4b6a-4b40-b8a3-3a4c4a7c9e5f",
   "metadata": {},
   "outputs": [
    {
     "name": "stdout",
     "output_type": "stream",
     "text": [
      "<class 'float'>\n"
     ]
    }
   ],
   "source": [
    "price = 9.99 # float datatype\n",
    "print(type(price))"
   ]
  },
  {
   "cell_type": "markdown",
   "id": "c1ac88e9-1a5d-4cb0-949a-c79930d1a1de",
   "metadata": {},
   "source": [
    "# Q9. Create a variable named name and assign your full name to it as a string. How would you print the value of this variable?"
   ]
  },
  {
   "cell_type": "code",
   "execution_count": 16,
   "id": "53a96aae-6498-4846-bbf8-7a49f3bbeb1d",
   "metadata": {},
   "outputs": [
    {
     "name": "stdout",
     "output_type": "stream",
     "text": [
      "Jogireddy Kushwanth Reddy\n"
     ]
    }
   ],
   "source": [
    "name = \"Jogireddy Kushwanth Reddy\"\n",
    "print(name)"
   ]
  },
  {
   "cell_type": "markdown",
   "id": "c960d1f8-b6ab-480b-98f9-240bc4d17ff8",
   "metadata": {},
   "source": [
    "# Q10. Given the string \"Hello, World!\", extract the substring \"World\"."
   ]
  },
  {
   "cell_type": "code",
   "execution_count": 18,
   "id": "49fe498a-545a-4e66-a695-16ec06d2e474",
   "metadata": {},
   "outputs": [
    {
     "name": "stdout",
     "output_type": "stream",
     "text": [
      "World\n"
     ]
    }
   ],
   "source": [
    "text = \"Hello, World!\"\n",
    "substring = text[7:12]\n",
    "print(substring)\n"
   ]
  },
  {
   "cell_type": "markdown",
   "id": "04a53fad-973f-45e4-aea9-a2bc628af24d",
   "metadata": {},
   "source": [
    "# Q11. Create a variable named \"is_student\" and assign it a boolean value indicating whether you are currently a student or not."
   ]
  },
  {
   "cell_type": "code",
   "execution_count": 19,
   "id": "3142e2f4-6a54-4523-adc3-87f773e69a69",
   "metadata": {},
   "outputs": [],
   "source": [
    "is_student=True"
   ]
  }
 ],
 "metadata": {
  "kernelspec": {
   "display_name": "Python 3 (ipykernel)",
   "language": "python",
   "name": "python3"
  },
  "language_info": {
   "codemirror_mode": {
    "name": "ipython",
    "version": 3
   },
   "file_extension": ".py",
   "mimetype": "text/x-python",
   "name": "python",
   "nbconvert_exporter": "python",
   "pygments_lexer": "ipython3",
   "version": "3.12.1"
  }
 },
 "nbformat": 4,
 "nbformat_minor": 5
}

{
 "cells": [
  {
   "cell_type": "markdown",
   "id": "c3b20fe5-e98c-4c64-97df-e9b2ea5e3a6e",
   "metadata": {},
   "source": [
    "# Q1, Create a vehicle class with an init method having instance variables as name_of_vehicle, max_speed and average_of_vehicle."
   ]
  },
  {
   "cell_type": "code",
   "execution_count": 1,
   "id": "5fca2148-4e6f-411c-8e18-44921d8920bf",
   "metadata": {},
   "outputs": [],
   "source": [
    "class Vehicle:\n",
    "    def __init__(self, name_of_vehicle, max_speed, average_of_vehicle):\n",
    "        self.name_of_vehicle = name_of_vehicle\n",
    "        self.max_speed = max_speed\n",
    "        self.average_of_vehicle = average_of_vehicle"
   ]
  },
  {
   "cell_type": "markdown",
   "id": "503008d4-ba90-4311-a0b3-631a01e2ccd9",
   "metadata": {},
   "source": [
    "# Q2. Create a child class car from the vehicle class created in Que 1, which will inherit the vehicle class.\n",
    "# Create a method named seating_capacity which takes capacity as an argument and returns the name of the vehicle and its seating capacity.\n"
   ]
  },
  {
   "cell_type": "code",
   "execution_count": 2,
   "id": "0a2fdaf1-5cc9-41a9-89fc-58c863c93173",
   "metadata": {},
   "outputs": [
    {
     "name": "stdout",
     "output_type": "stream",
     "text": [
      "name:kushu capacity:5\n"
     ]
    }
   ],
   "source": [
    "class Car(Vehicle):\n",
    "    def seating_capacity(self, capacity):\n",
    "        return f\"name:{self.name_of_vehicle} capacity:{capacity}\"\n",
    "car1 = Car(\"kushu\", 200, 15)\n",
    "print(car1.seating_capacity(5))"
   ]
  },
  {
   "cell_type": "markdown",
   "id": "054f1c4b-311a-4738-adde-1957fa4a674b",
   "metadata": {},
   "source": [
    "# Q3. What is multiple inheritance? Write a python code to demonstrate multiple inheritance.\n"
   ]
  },
  {
   "cell_type": "code",
   "execution_count": 3,
   "id": "0be101c8-c033-4306-bf1d-5f9e9e036178",
   "metadata": {},
   "outputs": [
    {
     "name": "stdout",
     "output_type": "stream",
     "text": [
      "Father is tall\n",
      "Mother has fair skin\n"
     ]
    }
   ],
   "source": [
    "# Multiple inheritance is when a child class inherits from more than one parent class.\n",
    "class Father:\n",
    "    def height(self):\n",
    "        print(\"Father is tall\")\n",
    "class Mother:\n",
    "    def skin_color(self):\n",
    "        print(\"Mother has fair skin\")\n",
    "class Child(Father, Mother):\n",
    "    pass\n",
    "c = Child()\n",
    "c.height()     \n",
    "c.skin_color()"
   ]
  },
  {
   "cell_type": "markdown",
   "id": "4f0c93da-a70b-4b12-be9a-a0870baa3083",
   "metadata": {},
   "source": [
    "# Q4. What are getter and setter in python? Create a class and create a getter and a setter method in this class.\n"
   ]
  },
  {
   "cell_type": "code",
   "execution_count": 4,
   "id": "2e08013c-2d50-4270-87aa-77a65393d839",
   "metadata": {},
   "outputs": [
    {
     "name": "stdout",
     "output_type": "stream",
     "text": [
      "20\n",
      "25\n"
     ]
    }
   ],
   "source": [
    "# Getters are used to access private attributes.\n",
    "# Setters are used to modify private attributes.\n",
    "class Student:\n",
    "    def __init__(self, name, age):\n",
    "        self.__name = name\n",
    "        self.__age = age\n",
    "    def get_age(self):\n",
    "        return self.__age\n",
    "    def set_age(self, new_age):\n",
    "       self.__age = new_age\n",
    "s1 = Student(\"Alice\", 20)\n",
    "print(s1.get_age())\n",
    "s1.set_age(25)\n",
    "print(s1.get_age())"
   ]
  },
  {
   "cell_type": "markdown",
   "id": "efdfdda0-445b-4d5c-b567-7de52dfe4f38",
   "metadata": {},
   "source": [
    "# Q5.What is method overriding in python? Write a python code to demonstrate method overriding."
   ]
  },
  {
   "cell_type": "code",
   "execution_count": 5,
   "id": "cb3cf695-59c0-407e-b89a-f184513e3d00",
   "metadata": {},
   "outputs": [
    {
     "name": "stdout",
     "output_type": "stream",
     "text": [
      "Bark\n"
     ]
    }
   ],
   "source": [
    "#Method Overriding occurs when a child class has same function as in the parent class.\n",
    "class Animal:\n",
    "    def make_sound(self):\n",
    "        return \"Some generic animal sound\"\n",
    "class Dog(Animal):\n",
    "    def make_sound(self):\n",
    "        return \"Bark\"\n",
    "dog = Dog()\n",
    "print(dog.make_sound())"
   ]
  }
 ],
 "metadata": {
  "kernelspec": {
   "display_name": "Python 3 (ipykernel)",
   "language": "python",
   "name": "python3"
  },
  "language_info": {
   "codemirror_mode": {
    "name": "ipython",
    "version": 3
   },
   "file_extension": ".py",
   "mimetype": "text/x-python",
   "name": "python",
   "nbconvert_exporter": "python",
   "pygments_lexer": "ipython3",
   "version": "3.12.1"
  }
 },
 "nbformat": 4,
 "nbformat_minor": 5
}

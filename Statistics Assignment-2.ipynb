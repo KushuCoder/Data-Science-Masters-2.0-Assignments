{
 "cells": [
  {
   "cell_type": "markdown",
   "id": "49ff431f-0d7d-4d52-bfb7-8b2a88d07926",
   "metadata": {},
   "source": [
    "# Q1. What are the three measures of central tendency?"
   ]
  },
  {
   "cell_type": "markdown",
   "id": "9443d6f7-84a1-4fc1-b982-8e5885f100eb",
   "metadata": {},
   "source": [
    "Mean – The average of the data points.    \n",
    "Median – The middle value when the data is sorted.    \n",
    "Mode – The most frequently occurring value in the dataset."
   ]
  },
  {
   "cell_type": "markdown",
   "id": "225908bc-9feb-4498-bc92-7ce2b3cd49a8",
   "metadata": {},
   "source": [
    "# Q2. What is the difference between the mean, median, and mode? How are they used to measure the central tendency of a dataset?"
   ]
  },
  {
   "cell_type": "markdown",
   "id": "c0e1a13f-6878-4545-a11a-a8c55ba912a8",
   "metadata": {},
   "source": [
    "The mean considers all data points and provides a balance, whereas it is sensitive to outliers that can skew the result.    \n",
    "The median is more resistant to extreme values, whereas it may not fully reflect the overall distribution of data.    \n",
    "The mode identifies the most frequently occurring value, whereas it may not always exist or be unique in a dataset.\n",
    "\n",
    "The mean, median, and mode are used to measure the central tendency of a dataset by identifying a single value that best represents the overall distribution of the data.\n",
    "The mean provides the average value, whereas it is influenced by outliers and works best for symmetrical distributions.    \n",
    "The median identifies the middle value, whereas it is useful for skewed data since it is not affected by extreme values.    \n",
    "The mode highlights the most frequently occurring value, whereas it is most useful for categorical or discrete data."
   ]
  },
  {
   "cell_type": "markdown",
   "id": "09b29cb4-9f51-49be-b418-27024f721954",
   "metadata": {},
   "source": [
    "# Q3. Measure the three measures of central tendency for the given height data:\n",
    "[178,177,176,177,178.2,178,175,179,180,175,178.9,176.2,177,172.5,178,176.5]"
   ]
  },
  {
   "cell_type": "code",
   "execution_count": 6,
   "id": "439ca958-c86e-4029-b570-44184159c4be",
   "metadata": {},
   "outputs": [
    {
     "name": "stdout",
     "output_type": "stream",
     "text": [
      "Mean: 177.01875\n",
      "Median: 177.0\n",
      "Mode: ModeResult(mode=177.0, count=3)\n"
     ]
    }
   ],
   "source": [
    "import numpy as np\n",
    "from scipy import stats\n",
    "\n",
    "height_data = [178, 177, 176, 177, 178.2, 178, 175, 179, 180, 175, 178.9, 176.2, 177, 172.5, 178, 176.5]\n",
    "\n",
    "mean = np.mean(height_data)\n",
    "median = np.median(height_data)\n",
    "mode = stats.mode(height_data)\n",
    "\n",
    "print(f\"Mean: {mean}\")\n",
    "print(f\"Median: {median}\")\n",
    "print(f\"Mode: {mode}\")\n"
   ]
  },
  {
   "cell_type": "markdown",
   "id": "10be7a40-21bf-4cd6-a872-34bcc7d401d3",
   "metadata": {},
   "source": [
    "# Q4. Find the standard deviation for the given data:\n",
    "[178,177,176,177,178.2,178,175,179,180,175,178.9,176.2,177,172.5,178,176.5]"
   ]
  },
  {
   "cell_type": "code",
   "execution_count": null,
   "id": "55d60220-4380-472b-a727-1f54806871fe",
   "metadata": {},
   "outputs": [],
   "source": [
    "std_dev = np.std(height_data, ddof=0)  # Population standard deviation\n",
    "print(f\"Standard Deviation: {std_dev}\")\n"
   ]
  },
  {
   "cell_type": "markdown",
   "id": "96eb4a92-3c2c-4c81-9897-db0c616cd8ec",
   "metadata": {},
   "source": [
    "# Q5. How are measures of dispersion such as range, variance, and standard deviation used to describe the spread of a dataset? Provide an example."
   ]
  },
  {
   "cell_type": "code",
   "execution_count": null,
   "id": "08396ea7-c5c1-48b9-bad6-1926abf26a4d",
   "metadata": {},
   "outputs": [],
   "source": [
    "Range: Difference between the maximum and minimum values.\n",
    "Variance: Average of the squared differences from the mean.\n",
    "Standard Deviation: Square root of variance; measures dispersion in the same unit as data.\n",
    "Example: For data [2, 4, 6, 8, 10]:\n",
    "\n",
    "Range = 10 - 2 = 8\n",
    "Variance = 10\n",
    "Standard Deviation = √10 ≈ 3.16"
   ]
  },
  {
   "cell_type": "markdown",
   "id": "c8f08a39-6f1e-4275-989c-4e00b54777c6",
   "metadata": {},
   "source": [
    "# Q6. What is a Venn diagram?"
   ]
  },
  {
   "cell_type": "code",
   "execution_count": null,
   "id": "35326d39-fca9-4291-94a8-a97a2b4b585a",
   "metadata": {},
   "outputs": [],
   "source": [
    "A Venn diagram is a graphical representation of sets, using overlapping circles to show relationships between them."
   ]
  },
  {
   "cell_type": "markdown",
   "id": "54828baf-e7b0-4147-9431-b8195a2285ba",
   "metadata": {},
   "source": [
    "# Q7. For the two given sets A = (2,3,4,5,6,7) & B = (0,2,6,8,10). Find:\n",
    "# (i) A B\n",
    "# (ii) A ⋃ B"
   ]
  },
  {
   "cell_type": "code",
   "execution_count": null,
   "id": "fa5d4a88-f9f4-4159-ba6f-afd93f2eec49",
   "metadata": {},
   "outputs": [],
   "source": [
    "Given sets:\n",
    "A = {2,3,4,5,6,7}\n",
    "B = {0,2,6,8,10}\n",
    "\n",
    "(i) A ∩ B (Intersection) → Common elements:\n",
    "A ∩ B = {2,6}\n",
    "\n",
    "(ii) A ∪ B (Union) → All unique elements:\n",
    "A ∪ B = {0,2,3,4,5,6,7,8,10}"
   ]
  },
  {
   "cell_type": "markdown",
   "id": "65c8d4e0-f0c1-45d3-93f0-6b2c38637765",
   "metadata": {},
   "source": [
    "# Q8. What do you understand about skewness in data?"
   ]
  },
  {
   "cell_type": "markdown",
   "id": "161cdbed-8269-43ab-8d26-e9e1389d0b63",
   "metadata": {},
   "source": [
    "Skewness measures the asymmetry of a distribution:    \n",
    "Positive skew (right-skewed): Long tail on the right (e.g., income data).    \n",
    "Negative skew (left-skewed): Long tail on the left (e.g., test scores)."
   ]
  },
  {
   "cell_type": "markdown",
   "id": "763d65ba-a9a8-4643-bb2e-8a95f68fcec5",
   "metadata": {},
   "source": [
    "# Q9. If a data is right skewed then what will be the position of median with respect to mean?"
   ]
  },
  {
   "cell_type": "markdown",
   "id": "32cb97c0-409c-4dbd-8245-32507b26ea38",
   "metadata": {},
   "source": [
    "In a right-skewed distribution:    \n",
    "Mean > Median > Mode (Mean is pulled towards the higher values)."
   ]
  },
  {
   "cell_type": "markdown",
   "id": "25e9e5ba-04e0-4fea-8849-1426803e40b1",
   "metadata": {},
   "source": [
    "# Q10. Explain the difference between covariance and correlation. How are these measures used in statistical analysis?"
   ]
  },
  {
   "cell_type": "markdown",
   "id": "cc5c4b38-05be-43ff-830b-13e6bb82ffe0",
   "metadata": {},
   "source": [
    "Covariance measures the direction of the relationship between two variables, whereas correlation measures both the direction and strength of the relationship.    \n",
    "Covariance is unbounded and can take any value, whereas correlation is standardized between -1 and 1, making it easier to interpret.    \n",
    "Covariance is useful in portfolio risk analysis, whereas correlation is widely used in statistical modeling and machine learning.    \n",
    "Uses:    \n",
    "Covariance is mainly used in portfolio theory and risk analysis to determine how assets move together.    \n",
    "Correlation is widely used in regression analysis, finance, machine learning, and social sciences to quantify the strength of relationships."
   ]
  },
  {
   "cell_type": "markdown",
   "id": "a080aa08-7bef-4ac4-a0bb-029a36573160",
   "metadata": {},
   "source": [
    "# Q11. What is the formula for calculating the sample mean? Provide an example calculation for a dataset."
   ]
  },
  {
   "cell_type": "code",
   "execution_count": 4,
   "id": "1784c943-e0e5-47c1-9ba1-0744ed81ecb5",
   "metadata": {},
   "outputs": [],
   "source": [
    "#mean=sum of observations/no:of observations\n",
    "#Example:\n",
    "data=[1,2,3,4]\n",
    "mean=(1+2+3+4)/4\n",
    "mean=2.5"
   ]
  },
  {
   "cell_type": "markdown",
   "id": "ef7d1978-75b5-489a-b776-e1ed2e7e853a",
   "metadata": {},
   "source": [
    "# Q12. For a normal distribution data what is the relationship between its measure of central tendency?\n"
   ]
  },
  {
   "cell_type": "markdown",
   "id": "894d6080-7dec-40dd-8e77-bd98a5ccbb3c",
   "metadata": {},
   "source": [
    "In normal distribution,\n",
    "mean=median=mode"
   ]
  },
  {
   "cell_type": "markdown",
   "id": "68d5a00e-a90a-4b00-a471-3ce9d9cd6c85",
   "metadata": {},
   "source": [
    "# Q13. How is covariance different from correlation?"
   ]
  },
  {
   "cell_type": "markdown",
   "id": "dd2c612c-7ac1-4f30-87db-537f4e35cbe8",
   "metadata": {},
   "source": [
    "Covariance measures the direction of the relationship.    \n",
    "Correlation measures the strength of the relationship.    \n",
    "Correlation is a normalized form of covariance.    "
   ]
  },
  {
   "cell_type": "markdown",
   "id": "d43213eb-dc40-420e-a681-6a4e3515a024",
   "metadata": {},
   "source": [
    "# Q14. How do outliers affect measures of central tendency and dispersion? Provide an example."
   ]
  },
  {
   "cell_type": "markdown",
   "id": "376c7ca1-11b8-40c5-8287-6b5e8292c3e5",
   "metadata": {},
   "source": [
    "Mean: Affected significantly (pulled in direction of outlier).    \n",
    "Median: Less affected.    \n",
    "Mode: Not affected unless the outlier repeats.    \n",
    "Standard Deviation: Increases with outliers.    \n",
    "Example:    \n",
    "Dataset: [10, 12, 14, 16, 100]    \n",
    "\n",
    "Mean = 30.4 (pulled by outlier)    \n",
    "Median = 14 (remains close to the central values)    \n",
    "Mode = Not applicable here    \n",
    "Standard Deviation = High due to outlier"
   ]
  }
 ],
 "metadata": {
  "kernelspec": {
   "display_name": "Python 3 (ipykernel)",
   "language": "python",
   "name": "python3"
  },
  "language_info": {
   "codemirror_mode": {
    "name": "ipython",
    "version": 3
   },
   "file_extension": ".py",
   "mimetype": "text/x-python",
   "name": "python",
   "nbconvert_exporter": "python",
   "pygments_lexer": "ipython3",
   "version": "3.12.1"
  }
 },
 "nbformat": 4,
 "nbformat_minor": 5
}
